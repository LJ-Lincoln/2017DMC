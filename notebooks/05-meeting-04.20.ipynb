{
 "cells": [
  {
   "cell_type": "markdown",
   "metadata": {},
   "source": [
    "## Meeting 4/20"
   ]
  },
  {
   "cell_type": "code",
   "execution_count": null,
   "metadata": {
    "collapsed": true
   },
   "outputs": [],
   "source": [
    "source(\"../src/data/read_dmc.R\")\n",
    "\n",
    "train = read_dmc(\"../data/train.csv\")\n",
    "items = read_dmc(\"../data/items.csv\")\n",
    "class = read_dmc(\"../data/class.csv\")"
   ]
  },
  {
   "cell_type": "code",
   "execution_count": 42,
   "metadata": {
    "scrolled": true
   },
   "outputs": [
    {
     "data": {
      "text/html": [
       "<ol class=list-inline>\n",
       "\t<li>'pid'</li>\n",
       "\t<li>'manufacturer'</li>\n",
       "\t<li>'group'</li>\n",
       "\t<li>'content'</li>\n",
       "\t<li>'unit'</li>\n",
       "\t<li>'pharmForm'</li>\n",
       "\t<li>'genericProduct'</li>\n",
       "\t<li>'salesIndex'</li>\n",
       "\t<li>'category'</li>\n",
       "\t<li>'campaignIndex'</li>\n",
       "\t<li>'rrp'</li>\n",
       "\t<li>'group2_1'</li>\n",
       "\t<li>'group2_3'</li>\n",
       "\t<li>'group2_5'</li>\n",
       "\t<li>'group2_7'</li>\n",
       "\t<li>'pharm'</li>\n",
       "</ol>\n"
      ],
      "text/latex": [
       "\\begin{enumerate*}\n",
       "\\item 'pid'\n",
       "\\item 'manufacturer'\n",
       "\\item 'group'\n",
       "\\item 'content'\n",
       "\\item 'unit'\n",
       "\\item 'pharmForm'\n",
       "\\item 'genericProduct'\n",
       "\\item 'salesIndex'\n",
       "\\item 'category'\n",
       "\\item 'campaignIndex'\n",
       "\\item 'rrp'\n",
       "\\item 'group2\\_1'\n",
       "\\item 'group2\\_3'\n",
       "\\item 'group2\\_5'\n",
       "\\item 'group2\\_7'\n",
       "\\item 'pharm'\n",
       "\\end{enumerate*}\n"
      ],
      "text/markdown": [
       "1. 'pid'\n",
       "2. 'manufacturer'\n",
       "3. 'group'\n",
       "4. 'content'\n",
       "5. 'unit'\n",
       "6. 'pharmForm'\n",
       "7. 'genericProduct'\n",
       "8. 'salesIndex'\n",
       "9. 'category'\n",
       "10. 'campaignIndex'\n",
       "11. 'rrp'\n",
       "12. 'group2_1'\n",
       "13. 'group2_3'\n",
       "14. 'group2_5'\n",
       "15. 'group2_7'\n",
       "16. 'pharm'\n",
       "\n",
       "\n"
      ],
      "text/plain": [
       " [1] \"pid\"            \"manufacturer\"   \"group\"          \"content\"       \n",
       " [5] \"unit\"           \"pharmForm\"      \"genericProduct\" \"salesIndex\"    \n",
       " [9] \"category\"       \"campaignIndex\"  \"rrp\"            \"group2_1\"      \n",
       "[13] \"group2_3\"       \"group2_5\"       \"group2_7\"       \"pharm\"         "
      ]
     },
     "metadata": {},
     "output_type": "display_data"
    }
   ],
   "source": [
    "names(items)"
   ]
  },
  {
   "cell_type": "code",
   "execution_count": 67,
   "metadata": {
    "scrolled": false
   },
   "outputs": [
    {
     "ename": "ERROR",
     "evalue": "Error: argument 'incomparables != FALSE' is not used (yet)\n",
     "output_type": "error",
     "traceback": [
      "Error: argument 'incomparables != FALSE' is not used (yet)\nTraceback:\n",
      "1. duplicated(items[c(-1, -6)], incomparables = NA)",
      "2. duplicated.data.frame(items[c(-1, -6)], incomparables = NA)",
      "3. .NotYetUsed(\"incomparables != FALSE\")",
      "4. stop(msg, domain = NA, call. = FALSE)"
     ]
    }
   ],
   "source": [
    "sum(duplicated(items[c(-1, -6)]))"
   ]
  },
  {
   "cell_type": "code",
   "execution_count": 46,
   "metadata": {},
   "outputs": [
    {
     "data": {
      "text/html": [
       "22035"
      ],
      "text/latex": [
       "22035"
      ],
      "text/markdown": [
       "22035"
      ],
      "text/plain": [
       "[1] 22035"
      ]
     },
     "metadata": {},
     "output_type": "display_data"
    }
   ],
   "source": [
    "nrow(items)"
   ]
  },
  {
   "cell_type": "code",
   "execution_count": 55,
   "metadata": {},
   "outputs": [
    {
     "data": {
      "text/html": [
       "<dl class=dl-horizontal>\n",
       "\t<dt>pid</dt>\n",
       "\t\t<dd>0</dd>\n",
       "\t<dt>manufacturer</dt>\n",
       "\t\t<dd>0</dd>\n",
       "\t<dt>group</dt>\n",
       "\t\t<dd>0</dd>\n",
       "\t<dt>content</dt>\n",
       "\t\t<dd>0</dd>\n",
       "\t<dt>unit</dt>\n",
       "\t\t<dd>0</dd>\n",
       "\t<dt>pharmForm</dt>\n",
       "\t\t<dd>0.105604719764012</dd>\n",
       "\t<dt>genericProduct</dt>\n",
       "\t\t<dd>0</dd>\n",
       "\t<dt>salesIndex</dt>\n",
       "\t\t<dd>0</dd>\n",
       "\t<dt>category</dt>\n",
       "\t\t<dd>0.209984116178806</dd>\n",
       "\t<dt>campaignIndex</dt>\n",
       "\t\t<dd>0.93927842069435</dd>\n",
       "\t<dt>rrp</dt>\n",
       "\t\t<dd>0</dd>\n",
       "\t<dt>group2_1</dt>\n",
       "\t\t<dd>0</dd>\n",
       "\t<dt>group2_3</dt>\n",
       "\t\t<dd>0</dd>\n",
       "\t<dt>group2_5</dt>\n",
       "\t\t<dd>0</dd>\n",
       "\t<dt>group2_7</dt>\n",
       "\t\t<dd>0</dd>\n",
       "\t<dt>pharm</dt>\n",
       "\t\t<dd>0.105604719764012</dd>\n",
       "</dl>\n"
      ],
      "text/latex": [
       "\\begin{description*}\n",
       "\\item[pid] 0\n",
       "\\item[manufacturer] 0\n",
       "\\item[group] 0\n",
       "\\item[content] 0\n",
       "\\item[unit] 0\n",
       "\\item[pharmForm] 0.105604719764012\n",
       "\\item[genericProduct] 0\n",
       "\\item[salesIndex] 0\n",
       "\\item[category] 0.209984116178806\n",
       "\\item[campaignIndex] 0.93927842069435\n",
       "\\item[rrp] 0\n",
       "\\item[group2\\textbackslash{}\\_1] 0\n",
       "\\item[group2\\textbackslash{}\\_3] 0\n",
       "\\item[group2\\textbackslash{}\\_5] 0\n",
       "\\item[group2\\textbackslash{}\\_7] 0\n",
       "\\item[pharm] 0.105604719764012\n",
       "\\end{description*}\n"
      ],
      "text/markdown": [
       "pid\n",
       ":   0manufacturer\n",
       ":   0group\n",
       ":   0content\n",
       ":   0unit\n",
       ":   0pharmForm\n",
       ":   0.105604719764012genericProduct\n",
       ":   0salesIndex\n",
       ":   0category\n",
       ":   0.209984116178806campaignIndex\n",
       ":   0.93927842069435rrp\n",
       ":   0group2_1\n",
       ":   0group2_3\n",
       ":   0group2_5\n",
       ":   0group2_7\n",
       ":   0pharm\n",
       ":   0.105604719764012\n",
       "\n"
      ],
      "text/plain": [
       "           pid   manufacturer          group        content           unit \n",
       "     0.0000000      0.0000000      0.0000000      0.0000000      0.0000000 \n",
       "     pharmForm genericProduct     salesIndex       category  campaignIndex \n",
       "     0.1056047      0.0000000      0.0000000      0.2099841      0.9392784 \n",
       "           rrp       group2_1       group2_3       group2_5       group2_7 \n",
       "     0.0000000      0.0000000      0.0000000      0.0000000      0.0000000 \n",
       "         pharm \n",
       "     0.1056047 "
      ]
     },
     "metadata": {},
     "output_type": "display_data"
    }
   ],
   "source": [
    "colSums(is.na(items)) / nrow(items)"
   ]
  },
  {
   "cell_type": "code",
   "execution_count": 52,
   "metadata": {},
   "outputs": [
    {
     "data": {
      "text/html": [
       "<dl class=dl-horizontal>\n",
       "\t<dt>lineID</dt>\n",
       "\t\t<dd>0</dd>\n",
       "\t<dt>day</dt>\n",
       "\t\t<dd>0</dd>\n",
       "\t<dt>pid</dt>\n",
       "\t\t<dd>0</dd>\n",
       "\t<dt>adFlag</dt>\n",
       "\t\t<dd>0</dd>\n",
       "\t<dt>availability</dt>\n",
       "\t\t<dd>0</dd>\n",
       "\t<dt>competitorPrice</dt>\n",
       "\t\t<dd>0.0365337047891457</dd>\n",
       "\t<dt>click</dt>\n",
       "\t\t<dd>0</dd>\n",
       "\t<dt>basket</dt>\n",
       "\t\t<dd>0</dd>\n",
       "\t<dt>order</dt>\n",
       "\t\t<dd>0</dd>\n",
       "\t<dt>price</dt>\n",
       "\t\t<dd>0</dd>\n",
       "\t<dt>revenue</dt>\n",
       "\t\t<dd>0</dd>\n",
       "</dl>\n"
      ],
      "text/latex": [
       "\\begin{description*}\n",
       "\\item[lineID] 0\n",
       "\\item[day] 0\n",
       "\\item[pid] 0\n",
       "\\item[adFlag] 0\n",
       "\\item[availability] 0\n",
       "\\item[competitorPrice] 0.0365337047891457\n",
       "\\item[click] 0\n",
       "\\item[basket] 0\n",
       "\\item[order] 0\n",
       "\\item[price] 0\n",
       "\\item[revenue] 0\n",
       "\\end{description*}\n"
      ],
      "text/markdown": [
       "lineID\n",
       ":   0day\n",
       ":   0pid\n",
       ":   0adFlag\n",
       ":   0availability\n",
       ":   0competitorPrice\n",
       ":   0.0365337047891457click\n",
       ":   0basket\n",
       ":   0order\n",
       ":   0price\n",
       ":   0revenue\n",
       ":   0\n",
       "\n"
      ],
      "text/plain": [
       "         lineID             day             pid          adFlag    availability \n",
       "      0.0000000       0.0000000       0.0000000       0.0000000       0.0000000 \n",
       "competitorPrice           click          basket           order           price \n",
       "      0.0365337       0.0000000       0.0000000       0.0000000       0.0000000 \n",
       "        revenue \n",
       "      0.0000000 "
      ]
     },
     "metadata": {},
     "output_type": "display_data"
    }
   ],
   "source": [
    "colSums(is.na(train)) / nrow(train)"
   ]
  },
  {
   "cell_type": "code",
   "execution_count": 54,
   "metadata": {},
   "outputs": [
    {
     "data": {
      "text/html": [
       "<dl class=dl-horizontal>\n",
       "\t<dt>lineID</dt>\n",
       "\t\t<dd>0</dd>\n",
       "\t<dt>day</dt>\n",
       "\t\t<dd>0</dd>\n",
       "\t<dt>pid</dt>\n",
       "\t\t<dd>0</dd>\n",
       "\t<dt>adFlag</dt>\n",
       "\t\t<dd>0</dd>\n",
       "\t<dt>availability</dt>\n",
       "\t\t<dd>0</dd>\n",
       "\t<dt>competitorPrice</dt>\n",
       "\t\t<dd>0.0313891937920343</dd>\n",
       "\t<dt>price</dt>\n",
       "\t\t<dd>0</dd>\n",
       "</dl>\n"
      ],
      "text/latex": [
       "\\begin{description*}\n",
       "\\item[lineID] 0\n",
       "\\item[day] 0\n",
       "\\item[pid] 0\n",
       "\\item[adFlag] 0\n",
       "\\item[availability] 0\n",
       "\\item[competitorPrice] 0.0313891937920343\n",
       "\\item[price] 0\n",
       "\\end{description*}\n"
      ],
      "text/markdown": [
       "lineID\n",
       ":   0day\n",
       ":   0pid\n",
       ":   0adFlag\n",
       ":   0availability\n",
       ":   0competitorPrice\n",
       ":   0.0313891937920343price\n",
       ":   0\n",
       "\n"
      ],
      "text/plain": [
       "         lineID             day             pid          adFlag    availability \n",
       "     0.00000000      0.00000000      0.00000000      0.00000000      0.00000000 \n",
       "competitorPrice           price \n",
       "     0.03138919      0.00000000 "
      ]
     },
     "metadata": {},
     "output_type": "display_data"
    }
   ],
   "source": [
    "colSums(is.na(class)) / nrow(class)"
   ]
  },
  {
   "cell_type": "code",
   "execution_count": 59,
   "metadata": {
    "collapsed": true
   },
   "outputs": [],
   "source": [
    "items2 = items\n",
    "items2[is.na(items2)] = \"MISSING\""
   ]
  },
  {
   "cell_type": "code",
   "execution_count": 62,
   "metadata": {},
   "outputs": [
    {
     "data": {
      "text/html": [
       "3814"
      ],
      "text/latex": [
       "3814"
      ],
      "text/markdown": [
       "3814"
      ],
      "text/plain": [
       "[1] 3814"
      ]
     },
     "metadata": {},
     "output_type": "display_data"
    }
   ],
   "source": [
    "sum(duplicated(items2[c(-1, -6)]))"
   ]
  },
  {
   "cell_type": "code",
   "execution_count": 64,
   "metadata": {},
   "outputs": [
    {
     "data": {
      "text/html": [
       "<table>\n",
       "<thead><tr><th></th><th scope=col>manufacturer</th><th scope=col>group</th><th scope=col>content</th><th scope=col>unit</th><th scope=col>genericProduct</th><th scope=col>salesIndex</th><th scope=col>category</th><th scope=col>campaignIndex</th><th scope=col>rrp</th><th scope=col>group2_1</th><th scope=col>group2_3</th><th scope=col>group2_5</th><th scope=col>group2_7</th><th scope=col>pharm</th></tr></thead>\n",
       "<tbody>\n",
       "\t<tr><th scope=row>1</th><td>1      </td><td>2FOI   </td><td>80     </td><td>ST     </td><td>0      </td><td>40     </td><td>MISSING</td><td>MISSING</td><td>10.89  </td><td>2F     </td><td>OI     </td><td>       </td><td>       </td><td>tab    </td></tr>\n",
       "\t<tr><th scope=row>2</th><td>1      </td><td>2FOI   </td><td>80     </td><td>ST     </td><td>0      </td><td>40     </td><td>MISSING</td><td>MISSING</td><td>10.89  </td><td>2F     </td><td>OI     </td><td>       </td><td>       </td><td>tab    </td></tr>\n",
       "\t<tr><th scope=row>3</th><td>1      </td><td>2FOI   </td><td>10     </td><td>G      </td><td>0      </td><td>40     </td><td>MISSING</td><td>MISSING</td><td>16.45  </td><td>2F     </td><td>OI     </td><td>       </td><td>       </td><td>glo    </td></tr>\n",
       "\t<tr><th scope=row>4</th><td>1      </td><td>2FOI   </td><td>80     </td><td>ST     </td><td>0      </td><td>40     </td><td>MISSING</td><td>MISSING</td><td>10.89  </td><td>2F     </td><td>OI     </td><td>       </td><td>       </td><td>tab    </td></tr>\n",
       "\t<tr><th scope=row>5</th><td>2       </td><td>10OJ03JS</td><td>8       </td><td>ST      </td><td>0       </td><td>40      </td><td>1       </td><td>MISSING </td><td>22.53   </td><td>10      </td><td>OJ      </td><td>03      </td><td>JS      </td><td>pul     </td></tr>\n",
       "\t<tr><th scope=row>6</th><td>1      </td><td>2FOI   </td><td>10     </td><td>G      </td><td>0      </td><td>40     </td><td>2      </td><td>MISSING</td><td>9.85   </td><td>2F     </td><td>OI     </td><td>       </td><td>       </td><td>glo    </td></tr>\n",
       "</tbody>\n",
       "</table>\n"
      ],
      "text/latex": [
       "\\begin{tabular}{r|llllllllllllll}\n",
       "  & manufacturer & group & content & unit & genericProduct & salesIndex & category & campaignIndex & rrp & group2\\_1 & group2\\_3 & group2\\_5 & group2\\_7 & pharm\\\\\n",
       "\\hline\n",
       "\t1 & 1       & 2FOI    & 80      & ST      & 0       & 40      & MISSING & MISSING & 10.89   & 2F      & OI      &         &         & tab    \\\\\n",
       "\t2 & 1       & 2FOI    & 80      & ST      & 0       & 40      & MISSING & MISSING & 10.89   & 2F      & OI      &         &         & tab    \\\\\n",
       "\t3 & 1       & 2FOI    & 10      & G       & 0       & 40      & MISSING & MISSING & 16.45   & 2F      & OI      &         &         & glo    \\\\\n",
       "\t4 & 1       & 2FOI    & 80      & ST      & 0       & 40      & MISSING & MISSING & 10.89   & 2F      & OI      &         &         & tab    \\\\\n",
       "\t5 & 2        & 10OJ03JS & 8        & ST       & 0        & 40       & 1        & MISSING  & 22.53    & 10       & OJ       & 03       & JS       & pul     \\\\\n",
       "\t6 & 1       & 2FOI    & 10      & G       & 0       & 40      & 2       & MISSING & 9.85    & 2F      & OI      &         &         & glo    \\\\\n",
       "\\end{tabular}\n"
      ],
      "text/plain": [
       "  manufacturer    group content unit genericProduct salesIndex category\n",
       "1            1     2FOI      80   ST              0         40  MISSING\n",
       "2            1     2FOI      80   ST              0         40  MISSING\n",
       "3            1     2FOI      10    G              0         40  MISSING\n",
       "4            1     2FOI      80   ST              0         40  MISSING\n",
       "5            2 10OJ03JS       8   ST              0         40        1\n",
       "6            1     2FOI      10    G              0         40        2\n",
       "  campaignIndex   rrp group2_1 group2_3 group2_5 group2_7 pharm\n",
       "1       MISSING 10.89       2F       OI                     tab\n",
       "2       MISSING 10.89       2F       OI                     tab\n",
       "3       MISSING 16.45       2F       OI                     glo\n",
       "4       MISSING 10.89       2F       OI                     tab\n",
       "5       MISSING 22.53       10       OJ       03       JS   pul\n",
       "6       MISSING  9.85       2F       OI                     glo"
      ]
     },
     "metadata": {},
     "output_type": "display_data"
    }
   ],
   "source": [
    "head(items2[c(-1, -6)])"
   ]
  },
  {
   "cell_type": "code",
   "execution_count": 66,
   "metadata": {
    "collapsed": true
   },
   "outputs": [],
   "source": [
    "?duplicated"
   ]
  }
 ],
 "metadata": {
  "kernelspec": {
   "display_name": "R",
   "language": "R",
   "name": "ir"
  },
  "language_info": {
   "codemirror_mode": "r",
   "file_extension": ".r",
   "mimetype": "text/x-r-source",
   "name": "R",
   "pygments_lexer": "r",
   "version": "3.3.3"
  }
 },
 "nbformat": 4,
 "nbformat_minor": 2
}
