{
 "cells": [
  {
   "cell_type": "code",
   "execution_count": 1,
   "metadata": {
    "collapsed": true
   },
   "outputs": [],
   "source": [
    "import feather as ft\n",
    "import pandas as pd\n",
    "from pprint import pprint\n",
    "\n",
    "train = ft.read_dataframe('/home/hugo/Downloads/training_set.feather')"
   ]
  },
  {
   "cell_type": "code",
   "execution_count": 4,
   "metadata": {
    "collapsed": false
   },
   "outputs": [],
   "source": [
    "train_og = pd.read_csv('/home/hugo/data/DMC2017/train.csv', sep='|')"
   ]
  },
  {
   "cell_type": "code",
   "execution_count": 5,
   "metadata": {
    "collapsed": false
   },
   "outputs": [],
   "source": [
    "train_og = train_og[['lineID', 'order']]"
   ]
  },
  {
   "cell_type": "code",
   "execution_count": 6,
   "metadata": {
    "collapsed": false
   },
   "outputs": [],
   "source": [
    "train['lineID'] = train['lineID'].astype(int)"
   ]
  },
  {
   "cell_type": "code",
   "execution_count": 7,
   "metadata": {
    "collapsed": false
   },
   "outputs": [
    {
     "data": {
      "text/plain": [
       "0            10839\n",
       "1            38763\n",
       "2            39893\n",
       "3            64489\n",
       "4            83108\n",
       "5            87132\n",
       "6            91227\n",
       "7           106920\n",
       "8           107673\n",
       "9           117395\n",
       "10          146941\n",
       "11          152956\n",
       "12          168081\n",
       "13          192276\n",
       "14          192541\n",
       "15          213084\n",
       "16          221328\n",
       "17          235441\n",
       "18          263628\n",
       "19          267165\n",
       "20          336484\n",
       "21          350729\n",
       "22          373948\n",
       "23          420136\n",
       "24          469013\n",
       "25          508729\n",
       "26          515021\n",
       "27          520500\n",
       "28          521550\n",
       "29          556081\n",
       "            ...   \n",
       "1782718     468337\n",
       "1782719     601123\n",
       "1782720     602064\n",
       "1782721     643177\n",
       "1782722     677220\n",
       "1782723     741975\n",
       "1782724     803914\n",
       "1782725     803999\n",
       "1782726     809515\n",
       "1782727     819261\n",
       "1782728     869889\n",
       "1782729     874885\n",
       "1782730     907917\n",
       "1782731     926240\n",
       "1782732     995890\n",
       "1782733    1010074\n",
       "1782734    1063235\n",
       "1782735    1077738\n",
       "1782736    1141671\n",
       "1782737    1206747\n",
       "1782738    1268578\n",
       "1782739    1279628\n",
       "1782740    1288049\n",
       "1782741    1379065\n",
       "1782742    1423189\n",
       "1782743    1474052\n",
       "1782744    1474540\n",
       "1782745    1534134\n",
       "1782746    1575897\n",
       "1782747    1724518\n",
       "Name: lineID, dtype: int64"
      ]
     },
     "execution_count": 7,
     "metadata": {},
     "output_type": "execute_result"
    }
   ],
   "source": [
    "train['lineID']"
   ]
  },
  {
   "cell_type": "code",
   "execution_count": 7,
   "metadata": {
    "collapsed": false
   },
   "outputs": [],
   "source": [
    "new_train = train.merge(train_og, on='lineID', how='left')"
   ]
  },
  {
   "cell_type": "code",
   "execution_count": 8,
   "metadata": {
    "collapsed": false
   },
   "outputs": [],
   "source": [
    "ft.write_dataframe(new_train, '/home/hugo/data/DMC2017/validation_may_1st.feather')"
   ]
  },
  {
   "cell_type": "code",
   "execution_count": null,
   "metadata": {
    "collapsed": false
   },
   "outputs": [],
   "source": [
    "new_train['lineID'] = pd.to_numeric(new_train['lineID'])"
   ]
  },
  {
   "cell_type": "code",
   "execution_count": 10,
   "metadata": {
    "collapsed": false
   },
   "outputs": [
    {
     "name": "stderr",
     "output_type": "stream",
     "text": [
      "/home/hugo/.virtualenvs/dmc2017/lib/python3.5/site-packages/ipykernel_launcher.py:1: FutureWarning: sort(columns=....) is deprecated, use sort_values(by=.....)\n",
      "  \"\"\"Entry point for launching an IPython kernel.\n"
     ]
    }
   ],
   "source": [
    "new_train.sort('lineID', inplace=True)"
   ]
  },
  {
   "cell_type": "code",
   "execution_count": 11,
   "metadata": {
    "collapsed": false
   },
   "outputs": [
    {
     "data": {
      "text/plain": [
       "0         1\n",
       "604777    1\n",
       "637353    0\n",
       "630463    0\n",
       "702395    0\n",
       "313870    0\n",
       "706660    0\n",
       "759630    0\n",
       "953317    0\n",
       "697129    0\n",
       "277538    0\n",
       "457475    0\n",
       "563023    0\n",
       "600652    0\n",
       "477714    0\n",
       "462428    0\n",
       "894054    0\n",
       "782085    0\n",
       "917087    0\n",
       "631391    0\n",
       "969866    0\n",
       "759631    0\n",
       "640023    0\n",
       "807397    0\n",
       "449854    0\n",
       "80141     0\n",
       "414535    0\n",
       "954704    0\n",
       "950560    0\n",
       "885931    0\n",
       "         ..\n",
       "890927    0\n",
       "635711    0\n",
       "147307    0\n",
       "541480    0\n",
       "279916    0\n",
       "945811    0\n",
       "919560    0\n",
       "433962    0\n",
       "271159    0\n",
       "378790    1\n",
       "405839    0\n",
       "208752    0\n",
       "334717    0\n",
       "355640    0\n",
       "565552    0\n",
       "53751     0\n",
       "908485    0\n",
       "495834    0\n",
       "614037    0\n",
       "959035    0\n",
       "292660    0\n",
       "854698    0\n",
       "105424    0\n",
       "603690    0\n",
       "159592    0\n",
       "450887    0\n",
       "53605     0\n",
       "495912    0\n",
       "686359    0\n",
       "15        0\n",
       "Name: order, dtype: int64"
      ]
     },
     "execution_count": 11,
     "metadata": {},
     "output_type": "execute_result"
    }
   ],
   "source": [
    "new_train.loc[0:15, 'order']"
   ]
  },
  {
   "cell_type": "code",
   "execution_count": null,
   "metadata": {
    "collapsed": true
   },
   "outputs": [],
   "source": []
  }
 ],
 "metadata": {
  "kernelspec": {
   "display_name": "dmc2017",
   "language": "python",
   "name": "dmc2017"
  },
  "language_info": {
   "codemirror_mode": {
    "name": "ipython",
    "version": 3
   },
   "file_extension": ".py",
   "mimetype": "text/x-python",
   "name": "python",
   "nbconvert_exporter": "python",
   "pygments_lexer": "ipython3",
   "version": "3.5.2"
  }
 },
 "nbformat": 4,
 "nbformat_minor": 2
}
