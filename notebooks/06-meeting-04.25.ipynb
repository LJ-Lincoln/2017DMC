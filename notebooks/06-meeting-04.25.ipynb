{
 "cells": [
  {
   "cell_type": "code",
   "execution_count": 73,
   "metadata": {
    "collapsed": true
   },
   "outputs": [],
   "source": [
    "library(xgboost)"
   ]
  },
  {
   "cell_type": "code",
   "execution_count": 76,
   "metadata": {
    "collapsed": true
   },
   "outputs": [],
   "source": [
    "source(\"../src/data/read_dmc.R\")\n",
    "\n",
    "orig_train = read_dmc(\"../data/train.csv\")\n",
    "orig_items = read_dmc(\"../data/items.csv\")\n",
    "orig_class = read_dmc(\"../data/class.csv\")"
   ]
  },
  {
   "cell_type": "code",
   "execution_count": 117,
   "metadata": {},
   "outputs": [],
   "source": [
    "df = merge(orig_train, orig_items, by = \"pid\")\n",
    "\n",
    "df = df[order(df$lineID), ]\n",
    "df$quantity = df$revenue / df$price"
   ]
  },
  {
   "cell_type": "code",
   "execution_count": 118,
   "metadata": {},
   "outputs": [],
   "source": [
    "label = df$revenue\n",
    "train_mat = df[!(names(df) %in% c(\"click\", \"basket\", \"order\", \"revenue\"))]"
   ]
  },
  {
   "cell_type": "code",
   "execution_count": 17,
   "metadata": {},
   "outputs": [
    {
     "data": {
      "text/html": [
       "<table>\n",
       "<thead><tr><th></th><th scope=col>pid</th><th scope=col>lineID</th><th scope=col>day</th><th scope=col>adFlag</th><th scope=col>availability</th><th scope=col>competitorPrice</th><th scope=col>price</th><th scope=col>manufacturer</th><th scope=col>group</th><th scope=col>content</th><th scope=col>unit</th><th scope=col>pharmForm</th><th scope=col>genericProduct</th><th scope=col>salesIndex</th><th scope=col>category</th><th scope=col>campaignIndex</th><th scope=col>rrp</th></tr></thead>\n",
       "<tbody>\n",
       "\t<tr><th scope=row>953577</th><td>6570 </td><td>1    </td><td>1    </td><td>0    </td><td>2    </td><td>14.6 </td><td>16.89</td><td>255  </td><td>2FOI </td><td>50   </td><td>ML   </td><td>TRO  </td><td>0    </td><td>40   </td><td>193  </td><td>NA   </td><td>18.25</td></tr>\n",
       "\t<tr><th scope=row>1916348</th><td>14922   </td><td>2       </td><td>1       </td><td>1       </td><td>1       </td><td>8.57    </td><td>8.75    </td><td>18      </td><td>1COJ0FIK</td><td>50      </td><td>ST      </td><td>TAB     </td><td>1       </td><td>40      </td><td>66      </td><td>C       </td><td>18.81   </td></tr>\n",
       "\t<tr><th scope=row>2109080</th><td>16382</td><td>3    </td><td>1    </td><td>0    </td><td>1    </td><td>14.77</td><td>16.06</td><td>41   </td><td>22OI7</td><td>2X50 </td><td>ML   </td><td>STI  </td><td>0    </td><td>53   </td><td>40   </td><td>NA   </td><td>18.48</td></tr>\n",
       "\t<tr><th scope=row>129870</th><td>1145    </td><td>4       </td><td>1       </td><td>1       </td><td>1       </td><td>6.59    </td><td>6.55    </td><td>52      </td><td>18OZ00IS</td><td>60      </td><td>G       </td><td>GEL     </td><td>0       </td><td>40      </td><td>25      </td><td>NA      </td><td>9.31    </td></tr>\n",
       "\t<tr><th scope=row>528907</th><td>3394 </td><td>5    </td><td>1    </td><td>0    </td><td>1    </td><td>4.39 </td><td>4.14 </td><td>90   </td><td>20OI0</td><td>25X2 </td><td>ST   </td><td>KOM  </td><td>0    </td><td>53   </td><td>14   </td><td>NA   </td><td>8.13 </td></tr>\n",
       "\t<tr><th scope=row>560194</th><td>3661  </td><td>6     </td><td>1     </td><td>0     </td><td>1     </td><td>13.66 </td><td>10.03 </td><td>90    </td><td>13OX06</td><td>1000  </td><td>ML    </td><td>LOE   </td><td>0     </td><td>52    </td><td>127   </td><td>NA    </td><td>21.6  </td></tr>\n",
       "</tbody>\n",
       "</table>\n"
      ],
      "text/latex": [
       "\\begin{tabular}{r|lllllllllllllllll}\n",
       "  & pid & lineID & day & adFlag & availability & competitorPrice & price & manufacturer & group & content & unit & pharmForm & genericProduct & salesIndex & category & campaignIndex & rrp\\\\\n",
       "\\hline\n",
       "\t953577 & 6570  & 1     & 1     & 0     & 2     & 14.6  & 16.89 & 255   & 2FOI  & 50    & ML    & TRO   & 0     & 40    & 193   & NA    & 18.25\\\\\n",
       "\t1916348 & 14922    & 2        & 1        & 1        & 1        & 8.57     & 8.75     & 18       & 1COJ0FIK & 50       & ST       & TAB      & 1        & 40       & 66       & C        & 18.81   \\\\\n",
       "\t2109080 & 16382 & 3     & 1     & 0     & 1     & 14.77 & 16.06 & 41    & 22OI7 & 2X50  & ML    & STI   & 0     & 53    & 40    & NA    & 18.48\\\\\n",
       "\t129870 & 1145     & 4        & 1        & 1        & 1        & 6.59     & 6.55     & 52       & 18OZ00IS & 60       & G        & GEL      & 0        & 40       & 25       & NA       & 9.31    \\\\\n",
       "\t528907 & 3394  & 5     & 1     & 0     & 1     & 4.39  & 4.14  & 90    & 20OI0 & 25X2  & ST    & KOM   & 0     & 53    & 14    & NA    & 8.13 \\\\\n",
       "\t560194 & 3661   & 6      & 1      & 0      & 1      & 13.66  & 10.03  & 90     & 13OX06 & 1000   & ML     & LOE    & 0      & 52     & 127    & NA     & 21.6  \\\\\n",
       "\\end{tabular}\n"
      ],
      "text/plain": [
       "          pid lineID day adFlag availability competitorPrice price manufacturer\n",
       "953577   6570      1   1      0            2           14.60 16.89          255\n",
       "1916348 14922      2   1      1            1            8.57  8.75           18\n",
       "2109080 16382      3   1      0            1           14.77 16.06           41\n",
       "129870   1145      4   1      1            1            6.59  6.55           52\n",
       "528907   3394      5   1      0            1            4.39  4.14           90\n",
       "560194   3661      6   1      0            1           13.66 10.03           90\n",
       "           group content unit pharmForm genericProduct salesIndex category\n",
       "953577      2FOI      50   ML       TRO              0         40      193\n",
       "1916348 1COJ0FIK      50   ST       TAB              1         40       66\n",
       "2109080    22OI7    2X50   ML       STI              0         53       40\n",
       "129870  18OZ00IS      60    G       GEL              0         40       25\n",
       "528907     20OI0    25X2   ST       KOM              0         53       14\n",
       "560194    13OX06    1000   ML       LOE              0         52      127\n",
       "        campaignIndex   rrp\n",
       "953577           <NA> 18.25\n",
       "1916348             C 18.81\n",
       "2109080          <NA> 18.48\n",
       "129870           <NA>  9.31\n",
       "528907           <NA>  8.13\n",
       "560194           <NA> 21.60"
      ]
     },
     "metadata": {},
     "output_type": "display_data"
    }
   ],
   "source": [
    "head(train_mat)"
   ]
  },
  {
   "cell_type": "markdown",
   "metadata": {},
   "source": [
    "## Meeting 4/25\n",
    "\n",
    "Do competitor prices vary within PIDs?"
   ]
  },
  {
   "cell_type": "code",
   "execution_count": 23,
   "metadata": {},
   "outputs": [
    {
     "data": {
      "text/plain": [
       "\n",
       " 2655  2491 16641 16144  7403  3853  1426  1247  1037  1567 \n",
       "53785 14666 12369 11134 10002  8683  8396  7949  7933  7761 "
      ]
     },
     "metadata": {},
     "output_type": "display_data"
    }
   ],
   "source": [
    "sort(table(train$pid), decreasing = T)[1:10]"
   ]
  },
  {
   "cell_type": "code",
   "execution_count": 35,
   "metadata": {},
   "outputs": [],
   "source": [
    "z = aggregate(train$price, list(train$day, train$pid), var)"
   ]
  },
  {
   "cell_type": "code",
   "execution_count": 38,
   "metadata": {
    "scrolled": true
   },
   "outputs": [
    {
     "data": {
      "text/html": [
       "2446.42790551939"
      ],
      "text/latex": [
       "2446.42790551939"
      ],
      "text/markdown": [
       "2446.42790551939"
      ],
      "text/plain": [
       "[1] 2446.428"
      ]
     },
     "metadata": {},
     "output_type": "display_data"
    }
   ],
   "source": [
    "sum(z$x[!is.na(z$x)])"
   ]
  },
  {
   "cell_type": "markdown",
   "metadata": {},
   "source": [
    "The above shows there is some variation within days."
   ]
  },
  {
   "cell_type": "code",
   "execution_count": 126,
   "metadata": {},
   "outputs": [],
   "source": [
    "train = df[df$day <= 62, ]\n",
    "test = df[df$day > 62, ]"
   ]
  },
  {
   "cell_type": "code",
   "execution_count": 127,
   "metadata": {},
   "outputs": [],
   "source": [
    "label_cols = c(\"click\", \"basket\", \"order\", \"revenue\", \"quantity\")\n",
    "\n",
    "train_labels = train[label_cols]\n",
    "train = train[!(names(train) %in% label_cols)]\n",
    "\n",
    "test_labels = test[label_cols]\n",
    "test = test[!(names(test) %in% label_cols)]"
   ]
  },
  {
   "cell_type": "code",
   "execution_count": 128,
   "metadata": {},
   "outputs": [],
   "source": [
    "delete_cols = c(\"pid\", \"lineID\")\n",
    "train = train[!(names(train) %in% delete_cols)]\n",
    "test = test[!(names(test) %in% delete_cols)]"
   ]
  },
  {
   "cell_type": "code",
   "execution_count": 129,
   "metadata": {},
   "outputs": [
    {
     "data": {
      "text/html": [
       "<table>\n",
       "<thead><tr><th></th><th scope=col>day</th><th scope=col>adFlag</th><th scope=col>availability</th><th scope=col>competitorPrice</th><th scope=col>price</th><th scope=col>manufacturer</th><th scope=col>group</th><th scope=col>content</th><th scope=col>unit</th><th scope=col>pharmForm</th><th scope=col>genericProduct</th><th scope=col>salesIndex</th><th scope=col>category</th><th scope=col>campaignIndex</th><th scope=col>rrp</th></tr></thead>\n",
       "<tbody>\n",
       "\t<tr><th scope=row>953577</th><td>1    </td><td>0    </td><td>2    </td><td>14.6 </td><td>16.89</td><td>255  </td><td>2FOI </td><td>50   </td><td>ML   </td><td>TRO  </td><td>0    </td><td>40   </td><td>193  </td><td>NA   </td><td>18.25</td></tr>\n",
       "\t<tr><th scope=row>1916348</th><td>1       </td><td>1       </td><td>1       </td><td>8.57    </td><td>8.75    </td><td>18      </td><td>1COJ0FIK</td><td>50      </td><td>ST      </td><td>TAB     </td><td>1       </td><td>40      </td><td>66      </td><td>C       </td><td>18.81   </td></tr>\n",
       "\t<tr><th scope=row>2109080</th><td>1    </td><td>0    </td><td>1    </td><td>14.77</td><td>16.06</td><td>41   </td><td>22OI7</td><td>2X50 </td><td>ML   </td><td>STI  </td><td>0    </td><td>53   </td><td>40   </td><td>NA   </td><td>18.48</td></tr>\n",
       "\t<tr><th scope=row>129870</th><td>1       </td><td>1       </td><td>1       </td><td>6.59    </td><td>6.55    </td><td>52      </td><td>18OZ00IS</td><td>60      </td><td>G       </td><td>GEL     </td><td>0       </td><td>40      </td><td>25      </td><td>NA      </td><td>9.31    </td></tr>\n",
       "\t<tr><th scope=row>528907</th><td>1    </td><td>0    </td><td>1    </td><td>4.39 </td><td>4.14 </td><td>90   </td><td>20OI0</td><td>25X2 </td><td>ST   </td><td>KOM  </td><td>0    </td><td>53   </td><td>14   </td><td>NA   </td><td>8.13 </td></tr>\n",
       "\t<tr><th scope=row>560194</th><td>1     </td><td>0     </td><td>1     </td><td>13.66 </td><td>10.03 </td><td>90    </td><td>13OX06</td><td>1000  </td><td>ML    </td><td>LOE   </td><td>0     </td><td>52    </td><td>127   </td><td>NA    </td><td>21.6  </td></tr>\n",
       "</tbody>\n",
       "</table>\n"
      ],
      "text/latex": [
       "\\begin{tabular}{r|lllllllllllllll}\n",
       "  & day & adFlag & availability & competitorPrice & price & manufacturer & group & content & unit & pharmForm & genericProduct & salesIndex & category & campaignIndex & rrp\\\\\n",
       "\\hline\n",
       "\t953577 & 1     & 0     & 2     & 14.6  & 16.89 & 255   & 2FOI  & 50    & ML    & TRO   & 0     & 40    & 193   & NA    & 18.25\\\\\n",
       "\t1916348 & 1        & 1        & 1        & 8.57     & 8.75     & 18       & 1COJ0FIK & 50       & ST       & TAB      & 1        & 40       & 66       & C        & 18.81   \\\\\n",
       "\t2109080 & 1     & 0     & 1     & 14.77 & 16.06 & 41    & 22OI7 & 2X50  & ML    & STI   & 0     & 53    & 40    & NA    & 18.48\\\\\n",
       "\t129870 & 1        & 1        & 1        & 6.59     & 6.55     & 52       & 18OZ00IS & 60       & G        & GEL      & 0        & 40       & 25       & NA       & 9.31    \\\\\n",
       "\t528907 & 1     & 0     & 1     & 4.39  & 4.14  & 90    & 20OI0 & 25X2  & ST    & KOM   & 0     & 53    & 14    & NA    & 8.13 \\\\\n",
       "\t560194 & 1      & 0      & 1      & 13.66  & 10.03  & 90     & 13OX06 & 1000   & ML     & LOE    & 0      & 52     & 127    & NA     & 21.6  \\\\\n",
       "\\end{tabular}\n"
      ],
      "text/plain": [
       "        day adFlag availability competitorPrice price manufacturer    group\n",
       "953577    1      0            2           14.60 16.89          255     2FOI\n",
       "1916348   1      1            1            8.57  8.75           18 1COJ0FIK\n",
       "2109080   1      0            1           14.77 16.06           41    22OI7\n",
       "129870    1      1            1            6.59  6.55           52 18OZ00IS\n",
       "528907    1      0            1            4.39  4.14           90    20OI0\n",
       "560194    1      0            1           13.66 10.03           90   13OX06\n",
       "        content unit pharmForm genericProduct salesIndex category campaignIndex\n",
       "953577       50   ML       TRO              0         40      193          <NA>\n",
       "1916348      50   ST       TAB              1         40       66             C\n",
       "2109080    2X50   ML       STI              0         53       40          <NA>\n",
       "129870       60    G       GEL              0         40       25          <NA>\n",
       "528907     25X2   ST       KOM              0         53       14          <NA>\n",
       "560194     1000   ML       LOE              0         52      127          <NA>\n",
       "          rrp\n",
       "953577  18.25\n",
       "1916348 18.81\n",
       "2109080 18.48\n",
       "129870   9.31\n",
       "528907   8.13\n",
       "560194  21.60"
      ]
     },
     "metadata": {},
     "output_type": "display_data"
    }
   ],
   "source": [
    "head(train)"
   ]
  },
  {
   "cell_type": "code",
   "execution_count": 130,
   "metadata": {},
   "outputs": [],
   "source": [
    "# group, content, unit, pharmForm, campaignIndex\n",
    "# Convert categories to numbers\n",
    "train = lapply(train, function(col) {\n",
    "   if (!inherits(col, \"character\"))\n",
    "       return (col)\n",
    "    \n",
    "    unclass(factor(col))\n",
    "})\n",
    "train = as.data.frame(train)"
   ]
  },
  {
   "cell_type": "code",
   "execution_count": 131,
   "metadata": {},
   "outputs": [],
   "source": [
    "train = data.matrix(train)"
   ]
  },
  {
   "cell_type": "code",
   "execution_count": 132,
   "metadata": {
    "collapsed": true
   },
   "outputs": [],
   "source": [
    "# Convert categories to numbers\n",
    "test = lapply(test, function(col) {\n",
    "   if (!inherits(col, \"character\"))\n",
    "       return (col)\n",
    "    \n",
    "    unclass(factor(col))\n",
    "})\n",
    "test = data.matrix(as.data.frame(test))"
   ]
  },
  {
   "cell_type": "code",
   "execution_count": 133,
   "metadata": {},
   "outputs": [
    {
     "name": "stdout",
     "output_type": "stream",
     "text": [
      "[1]\ttrain-error:0.263378 \n",
      "[2]\ttrain-error:0.263378 \n"
     ]
    }
   ],
   "source": [
    "#model = xgboost(data = train, label = train_labels$order,\n",
    "#                max.depth = 2, eta = 1, nthread = 2, nround = 2, objective = \"binary:logistic\")\n",
    "model = xgboost(data = as.matrix(train), label = train_labels$order,\n",
    "                max.depth = 2, eta = 1, nthread = 2, nround = 2, objective = \"binary:logistic\")\n"
   ]
  },
  {
   "cell_type": "code",
   "execution_count": 134,
   "metadata": {},
   "outputs": [
    {
     "data": {
      "text/plain": [
       "##### xgb.Booster\n",
       "raw: 1.2 Kb \n",
       "call:\n",
       "  xgb.train(params = params, data = dtrain, nrounds = nrounds, \n",
       "    watchlist = watchlist, verbose = verbose, print_every_n = print_every_n, \n",
       "    early_stopping_rounds = early_stopping_rounds, maximize = maximize, \n",
       "    save_period = save_period, save_name = save_name, xgb_model = xgb_model, \n",
       "    callbacks = callbacks, max.depth = 2, eta = 1, nthread = 2, \n",
       "    objective = \"binary:logistic\")\n",
       "params (as set within xgb.train):\n",
       "  max_depth = \"2\", eta = \"1\", nthread = \"2\", objective = \"binary:logistic\", silent = \"1\"\n",
       "xgb.attributes:\n",
       "  niter\n",
       "callbacks:\n",
       "  cb.print.evaluation(period = print_every_n)\n",
       "  cb.evaluation.log()\n",
       "  cb.save.model(save_period = save_period, save_name = save_name)\n",
       "niter: 2\n",
       "evaluation_log:\n",
       " iter train_error\n",
       "    1    0.263378\n",
       "    2    0.263378"
      ]
     },
     "metadata": {},
     "output_type": "display_data"
    }
   ],
   "source": [
    "model"
   ]
  },
  {
   "cell_type": "code",
   "execution_count": 135,
   "metadata": {},
   "outputs": [],
   "source": [
    "preds = predict(model, test)"
   ]
  },
  {
   "cell_type": "code",
   "execution_count": 136,
   "metadata": {},
   "outputs": [],
   "source": [
    "preds01 = ifelse(preds <= 0.3, 0, 1)"
   ]
  },
  {
   "cell_type": "code",
   "execution_count": 137,
   "metadata": {},
   "outputs": [
    {
     "data": {
      "text/plain": [
       "   preds01\n",
       "             0          1\n",
       "  0 0.64174959 0.11622339\n",
       "  1 0.17824106 0.06378596"
      ]
     },
     "metadata": {},
     "output_type": "display_data"
    }
   ],
   "source": [
    "prop.table(table(test_labels$order, preds01))"
   ]
  },
  {
   "cell_type": "markdown",
   "metadata": {},
   "source": [
    "Fitting a second layer model"
   ]
  },
  {
   "cell_type": "code",
   "execution_count": 138,
   "metadata": {
    "collapsed": true
   },
   "outputs": [],
   "source": [
    "is_train2 = (train_labels$order == 1)\n",
    "train2 = train[is_train2, ]"
   ]
  },
  {
   "cell_type": "code",
   "execution_count": 141,
   "metadata": {
    "scrolled": true
   },
   "outputs": [
    {
     "data": {
      "text/plain": [
       "   Min. 1st Qu.  Median    Mean 3rd Qu.    Max. \n",
       "  1.000   1.000   1.000   1.371   1.000 306.000 "
      ]
     },
     "metadata": {},
     "output_type": "display_data"
    }
   ],
   "source": [
    "summary(train_labels$quantity[is_train2])"
   ]
  },
  {
   "cell_type": "code",
   "execution_count": 142,
   "metadata": {},
   "outputs": [
    {
     "data": {
      "text/html": [
       "2.54897038644174"
      ],
      "text/latex": [
       "2.54897038644174"
      ],
      "text/markdown": [
       "2.54897038644174"
      ],
      "text/plain": [
       "[1] 2.54897"
      ]
     },
     "metadata": {},
     "output_type": "display_data"
    }
   ],
   "source": [
    "var(train_labels$quantity[is_train2])"
   ]
  },
  {
   "cell_type": "code",
   "execution_count": 210,
   "metadata": {
    "collapsed": true
   },
   "outputs": [],
   "source": [
    "model2_data = as.data.frame(train2)\n",
    "model2_data[[\"quantity\"]] = train_labels$quantity[is_train2]\n",
    "model2 = glm(as.integer(quantity) ~ ., data = model2_data, family = quasipoisson)"
   ]
  },
  {
   "cell_type": "code",
   "execution_count": 206,
   "metadata": {},
   "outputs": [
    {
     "data": {
      "text/html": [
       "28090"
      ],
      "text/latex": [
       "28090"
      ],
      "text/markdown": [
       "28090"
      ],
      "text/plain": [
       "[1] 28090"
      ]
     },
     "metadata": {},
     "output_type": "display_data"
    }
   ],
   "source": [
    "sum(train_labels$quantity[is_train2] >= 3)"
   ]
  },
  {
   "cell_type": "code",
   "execution_count": 207,
   "metadata": {},
   "outputs": [
    {
     "data": {
      "text/plain": [
       "\n",
       "     1      2      3      4      5      6      7      8      9     10     11 \n",
       "376292  61807  15707   6605   4743   1643    229    369     70   1319     28 \n",
       "    12     13     14     15     16     17     18     19     20     21     22 \n",
       "    97      9     14    124     14      9     12      3    253      4     12 \n",
       "    23     24     25     26     27     28     30     31     35     36     40 \n",
       "     1      6     19      2      1      2     43      1      5      4     23 \n",
       "    45     50     55     60     65     80     84     90     99    100    115 \n",
       "     1     31      1      2      1      1      1      1      2     21      1 \n",
       "   200    300    306 \n",
       "     1      1      1 "
      ]
     },
     "metadata": {},
     "output_type": "display_data"
    }
   ],
   "source": [
    "table(train_labels$quantity[is_train2])"
   ]
  },
  {
   "cell_type": "markdown",
   "metadata": {},
   "source": [
    "Check prices of extremely high quantity lines"
   ]
  },
  {
   "cell_type": "code",
   "execution_count": 214,
   "metadata": {},
   "outputs": [
    {
     "data": {
      "text/plain": [
       "   Min. 1st Qu.  Median    Mean 3rd Qu.    Max. \n",
       " 0.6772  1.1520  1.2110  1.2320  1.3130  1.7580 "
      ]
     },
     "metadata": {},
     "output_type": "display_data"
    }
   ],
   "source": [
    "summary(predict(model2, type = \"response\"))"
   ]
  },
  {
   "cell_type": "code",
   "execution_count": 212,
   "metadata": {
    "scrolled": false
   },
   "outputs": [
    {
     "data": {
      "text/plain": [
       "\n",
       "Call:  glm(formula = as.integer(quantity) ~ ., family = quasipoisson, \n",
       "    data = model2_data)\n",
       "\n",
       "Coefficients:\n",
       "    (Intercept)              day           adFlag     availability  \n",
       "     -3.622e-01        4.786e-04        2.476e-02       -2.072e-02  \n",
       "competitorPrice            price     manufacturer            group  \n",
       "     -1.052e-02        3.476e-03       -8.492e-05        1.803e-04  \n",
       "        content             unit        pharmForm   genericProduct  \n",
       "     -1.042e-04       -2.366e-02       -2.209e-04        4.978e-02  \n",
       "     salesIndex         category    campaignIndex              rrp  \n",
       "      1.226e-02       -7.939e-05        1.349e-01       -9.389e-04  \n",
       "\n",
       "Degrees of Freedom: 80722 Total (i.e. Null);  80707 Residual\n",
       "  (388813 observations deleted due to missingness)\n",
       "Null Deviance:\t    23050 \n",
       "Residual Deviance: 21500 \tAIC: NA"
      ]
     },
     "metadata": {},
     "output_type": "display_data"
    }
   ],
   "source": [
    "model2"
   ]
  },
  {
   "cell_type": "code",
   "execution_count": 116,
   "metadata": {
    "collapsed": true
   },
   "outputs": [],
   "source": [
    "# Fit model on train2\n"
   ]
  },
  {
   "cell_type": "code",
   "execution_count": 114,
   "metadata": {
    "collapsed": true
   },
   "outputs": [],
   "source": [
    "# Predict with 2nd model on this\n",
    "is_test2 = (preds01 == 1)\n",
    "test2 = test[is_test2, ]"
   ]
  },
  {
   "cell_type": "code",
   "execution_count": 200,
   "metadata": {},
   "outputs": [],
   "source": [
    "preds_qty = predict.glm(model2, na.omit(as.data.frame(test2)), type = \"response\")"
   ]
  },
  {
   "cell_type": "code",
   "execution_count": null,
   "metadata": {
    "collapsed": true
   },
   "outputs": [],
   "source": [
    "colSums(is.na())"
   ]
  },
  {
   "cell_type": "code",
   "execution_count": 198,
   "metadata": {},
   "outputs": [
    {
     "data": {
      "text/plain": [
       "   Min. 1st Qu.  Median    Mean 3rd Qu.    Max. \n",
       " 0.7135  1.1730  1.2240  1.2050  1.2670  1.6190 "
      ]
     },
     "metadata": {},
     "output_type": "display_data"
    }
   ],
   "source": [
    "summary(preds_qty)"
   ]
  },
  {
   "cell_type": "code",
   "execution_count": 199,
   "metadata": {},
   "outputs": [
    {
     "data": {
      "image/png": "[encoded data removed]",
      "image/svg+xml": [
       "<?xml version=\"1.0\" encoding=\"UTF-8\"?>\n",
       "<svg xmlns=\"http://www.w3.org/2000/svg\" xmlns:xlink=\"http://www.w3.org/1999/xlink\" width=\"504pt\" height=\"504pt\" viewBox=\"0 0 504 504\" version=\"1.1\">\n",
       "<defs>\n",
       "<g>\n",
       "<symbol overflow=\"visible\" id=\"glyph0-0\">\n",
       "<path style=\"stroke:none;\" d=\"M 1.75 0 L 1.75 -8.75 L 8.75 -8.75 L 8.75 0 Z M 1.96875 -0.21875 L 8.53125 -0.21875 L 8.53125 -8.53125 L 1.96875 -8.53125 Z M 1.96875 -0.21875 \"/>\n",
       "</symbol>\n",
       "<symbol overflow=\"visible\" id=\"glyph0-1\">\n",
       "<path style=\"stroke:none;\" d=\"M 1.03125 0 L 1.03125 -10.015625 L 3.046875 -10.015625 L 3.046875 -6.078125 L 7.015625 -6.078125 L 7.015625 -10.015625 L 9.03125 -10.015625 L 9.03125 0 L 7.015625 0 L 7.015625 -4.375 L 3.046875 -4.375 L 3.046875 0 Z M 1.03125 0 \"/>\n",
       "</symbol>\n",
       "<symbol overflow=\"visible\" id=\"glyph0-2\">\n",
       "<path style=\"stroke:none;\" d=\"M 1 -8.25 L 1 -10.015625 L 2.921875 -10.015625 L 2.921875 -8.25 Z M 1 0 L 1 -7.265625 L 2.921875 -7.265625 L 2.921875 0 Z M 1 0 \"/>\n",
       "</symbol>\n",
       "<symbol overflow=\"visible\" id=\"glyph0-3\">\n",
       "<path style=\"stroke:none;\" d=\"M 0.328125 -2.078125 L 2.25 -2.359375 C 2.332031 -1.992188 2.5 -1.710938 2.75 -1.515625 C 3 -1.316406 3.351562 -1.21875 3.8125 -1.21875 C 4.300781 -1.21875 4.671875 -1.3125 4.921875 -1.5 C 5.097656 -1.625 5.1875 -1.796875 5.1875 -2.015625 C 5.1875 -2.160156 5.140625 -2.28125 5.046875 -2.375 C 4.953125 -2.46875 4.738281 -2.550781 4.40625 -2.625 C 2.851562 -2.96875 1.867188 -3.28125 1.453125 -3.5625 C 0.878906 -3.957031 0.59375 -4.503906 0.59375 -5.203125 C 0.59375 -5.828125 0.835938 -6.351562 1.328125 -6.78125 C 1.828125 -7.207031 2.601562 -7.421875 3.65625 -7.421875 C 4.644531 -7.421875 5.378906 -7.257812 5.859375 -6.9375 C 6.347656 -6.613281 6.679688 -6.132812 6.859375 -5.5 L 5.046875 -5.171875 C 4.972656 -5.453125 4.828125 -5.664062 4.609375 -5.8125 C 4.390625 -5.96875 4.082031 -6.046875 3.6875 -6.046875 C 3.175781 -6.046875 2.8125 -5.972656 2.59375 -5.828125 C 2.445312 -5.734375 2.375 -5.601562 2.375 -5.4375 C 2.375 -5.300781 2.441406 -5.1875 2.578125 -5.09375 C 2.742188 -4.96875 3.335938 -4.785156 4.359375 -4.546875 C 5.390625 -4.316406 6.109375 -4.035156 6.515625 -3.703125 C 6.910156 -3.359375 7.109375 -2.878906 7.109375 -2.265625 C 7.109375 -1.597656 6.828125 -1.023438 6.265625 -0.546875 C 5.710938 -0.0664062 4.894531 0.171875 3.8125 0.171875 C 2.820312 0.171875 2.035156 -0.03125 1.453125 -0.4375 C 0.878906 -0.84375 0.503906 -1.390625 0.328125 -2.078125 Z M 0.328125 -2.078125 \"/>\n",
       "</symbol>\n",
       "<symbol overflow=\"visible\" id=\"glyph0-4\">\n",
       "<path style=\"stroke:none;\" d=\"M 4.328125 -7.265625 L 4.328125 -5.734375 L 3.015625 -5.734375 L 3.015625 -2.796875 C 3.015625 -2.210938 3.023438 -1.867188 3.046875 -1.765625 C 3.078125 -1.671875 3.132812 -1.585938 3.21875 -1.515625 C 3.3125 -1.453125 3.425781 -1.421875 3.5625 -1.421875 C 3.738281 -1.421875 3.992188 -1.484375 4.328125 -1.609375 L 4.484375 -0.125 C 4.046875 0.0703125 3.539062 0.171875 2.96875 0.171875 C 2.625 0.171875 2.3125 0.113281 2.03125 0 C 1.757812 -0.125 1.554688 -0.273438 1.421875 -0.453125 C 1.296875 -0.640625 1.207031 -0.890625 1.15625 -1.203125 C 1.113281 -1.429688 1.09375 -1.882812 1.09375 -2.5625 L 1.09375 -5.734375 L 0.21875 -5.734375 L 0.21875 -7.265625 L 1.09375 -7.265625 L 1.09375 -8.703125 L 3.015625 -9.828125 L 3.015625 -7.265625 Z M 4.328125 -7.265625 \"/>\n",
       "</symbol>\n",
       "<symbol overflow=\"visible\" id=\"glyph0-5\">\n",
       "<path style=\"stroke:none;\" d=\"M 0.5625 -3.734375 C 0.5625 -4.367188 0.71875 -4.984375 1.03125 -5.578125 C 1.34375 -6.179688 1.785156 -6.640625 2.359375 -6.953125 C 2.941406 -7.265625 3.585938 -7.421875 4.296875 -7.421875 C 5.398438 -7.421875 6.300781 -7.0625 7 -6.34375 C 7.695312 -5.632812 8.046875 -4.738281 8.046875 -3.65625 C 8.046875 -2.550781 7.691406 -1.632812 6.984375 -0.90625 C 6.273438 -0.1875 5.382812 0.171875 4.3125 0.171875 C 3.644531 0.171875 3.007812 0.0195312 2.40625 -0.28125 C 1.800781 -0.582031 1.34375 -1.023438 1.03125 -1.609375 C 0.71875 -2.191406 0.5625 -2.898438 0.5625 -3.734375 Z M 2.53125 -3.625 C 2.53125 -2.90625 2.703125 -2.351562 3.046875 -1.96875 C 3.390625 -1.59375 3.8125 -1.40625 4.3125 -1.40625 C 4.8125 -1.40625 5.226562 -1.59375 5.5625 -1.96875 C 5.90625 -2.351562 6.078125 -2.910156 6.078125 -3.640625 C 6.078125 -4.347656 5.90625 -4.894531 5.5625 -5.28125 C 5.226562 -5.664062 4.8125 -5.859375 4.3125 -5.859375 C 3.8125 -5.859375 3.390625 -5.664062 3.046875 -5.28125 C 2.703125 -4.894531 2.53125 -4.34375 2.53125 -3.625 Z M 2.53125 -3.625 \"/>\n",
       "</symbol>\n",
       "<symbol overflow=\"visible\" id=\"glyph0-6\">\n",
       "<path style=\"stroke:none;\" d=\"M 0.828125 0.484375 L 3.015625 0.75 C 3.054688 1 3.144531 1.171875 3.28125 1.265625 C 3.457031 1.410156 3.742188 1.484375 4.140625 1.484375 C 4.640625 1.484375 5.015625 1.40625 5.265625 1.25 C 5.429688 1.144531 5.554688 0.984375 5.640625 0.765625 C 5.703125 0.609375 5.734375 0.316406 5.734375 -0.109375 L 5.734375 -1.171875 C 5.160156 -0.390625 4.4375 0 3.5625 0 C 2.582031 0 1.8125 -0.410156 1.25 -1.234375 C 0.800781 -1.890625 0.578125 -2.703125 0.578125 -3.671875 C 0.578125 -4.890625 0.867188 -5.816406 1.453125 -6.453125 C 2.035156 -7.097656 2.765625 -7.421875 3.640625 -7.421875 C 4.535156 -7.421875 5.273438 -7.023438 5.859375 -6.234375 L 5.859375 -7.265625 L 7.65625 -7.265625 L 7.65625 -0.75 C 7.65625 0.113281 7.582031 0.753906 7.4375 1.171875 C 7.300781 1.597656 7.101562 1.929688 6.84375 2.171875 C 6.59375 2.410156 6.253906 2.597656 5.828125 2.734375 C 5.398438 2.878906 4.863281 2.953125 4.21875 2.953125 C 2.976562 2.953125 2.101562 2.738281 1.59375 2.3125 C 1.082031 1.894531 0.828125 1.363281 0.828125 0.71875 C 0.828125 0.644531 0.828125 0.566406 0.828125 0.484375 Z M 2.546875 -3.78125 C 2.546875 -3.007812 2.691406 -2.441406 2.984375 -2.078125 C 3.285156 -1.722656 3.65625 -1.546875 4.09375 -1.546875 C 4.5625 -1.546875 4.957031 -1.726562 5.28125 -2.09375 C 5.601562 -2.46875 5.765625 -3.015625 5.765625 -3.734375 C 5.765625 -4.484375 5.609375 -5.039062 5.296875 -5.40625 C 4.992188 -5.769531 4.601562 -5.953125 4.125 -5.953125 C 3.664062 -5.953125 3.285156 -5.769531 2.984375 -5.40625 C 2.691406 -5.050781 2.546875 -4.507812 2.546875 -3.78125 Z M 2.546875 -3.78125 \"/>\n",
       "</symbol>\n",
       "<symbol overflow=\"visible\" id=\"glyph0-7\">\n",
       "<path style=\"stroke:none;\" d=\"M 2.84375 0 L 0.921875 0 L 0.921875 -7.265625 L 2.703125 -7.265625 L 2.703125 -6.234375 C 3.015625 -6.710938 3.289062 -7.03125 3.53125 -7.1875 C 3.769531 -7.34375 4.046875 -7.421875 4.359375 -7.421875 C 4.796875 -7.421875 5.21875 -7.300781 5.625 -7.0625 L 5.03125 -5.390625 C 4.707031 -5.597656 4.40625 -5.703125 4.125 -5.703125 C 3.851562 -5.703125 3.625 -5.625 3.4375 -5.46875 C 3.257812 -5.320312 3.113281 -5.054688 3 -4.671875 C 2.894531 -4.285156 2.84375 -3.476562 2.84375 -2.25 Z M 2.84375 0 \"/>\n",
       "</symbol>\n",
       "<symbol overflow=\"visible\" id=\"glyph0-8\">\n",
       "<path style=\"stroke:none;\" d=\"M 2.4375 -5.046875 L 0.703125 -5.359375 C 0.890625 -6.054688 1.222656 -6.570312 1.703125 -6.90625 C 2.179688 -7.25 2.894531 -7.421875 3.84375 -7.421875 C 4.695312 -7.421875 5.332031 -7.316406 5.75 -7.109375 C 6.175781 -6.910156 6.472656 -6.65625 6.640625 -6.34375 C 6.804688 -6.03125 6.890625 -5.457031 6.890625 -4.625 L 6.875 -2.390625 C 6.875 -1.742188 6.90625 -1.269531 6.96875 -0.96875 C 7.03125 -0.664062 7.144531 -0.34375 7.3125 0 L 5.421875 0 C 5.367188 -0.125 5.304688 -0.3125 5.234375 -0.5625 C 5.203125 -0.675781 5.175781 -0.753906 5.15625 -0.796875 C 4.832031 -0.472656 4.484375 -0.226562 4.109375 -0.0625 C 3.734375 0.09375 3.332031 0.171875 2.90625 0.171875 C 2.164062 0.171875 1.578125 -0.03125 1.140625 -0.4375 C 0.710938 -0.84375 0.5 -1.359375 0.5 -1.984375 C 0.5 -2.390625 0.597656 -2.753906 0.796875 -3.078125 C 0.992188 -3.398438 1.265625 -3.644531 1.609375 -3.8125 C 1.960938 -3.988281 2.472656 -4.140625 3.140625 -4.265625 C 4.035156 -4.429688 4.660156 -4.585938 5.015625 -4.734375 L 5.015625 -4.921875 C 5.015625 -5.296875 4.921875 -5.5625 4.734375 -5.71875 C 4.554688 -5.875 4.210938 -5.953125 3.703125 -5.953125 C 3.359375 -5.953125 3.09375 -5.882812 2.90625 -5.75 C 2.71875 -5.613281 2.5625 -5.378906 2.4375 -5.046875 Z M 5.015625 -3.484375 C 4.765625 -3.398438 4.375 -3.300781 3.84375 -3.1875 C 3.3125 -3.070312 2.960938 -2.960938 2.796875 -2.859375 C 2.546875 -2.679688 2.421875 -2.457031 2.421875 -2.1875 C 2.421875 -1.914062 2.519531 -1.679688 2.71875 -1.484375 C 2.914062 -1.285156 3.171875 -1.1875 3.484375 -1.1875 C 3.828125 -1.1875 4.160156 -1.300781 4.484375 -1.53125 C 4.710938 -1.707031 4.863281 -1.921875 4.9375 -2.171875 C 4.988281 -2.328125 5.015625 -2.640625 5.015625 -3.109375 Z M 5.015625 -3.484375 \"/>\n",
       "</symbol>\n",
       "<symbol overflow=\"visible\" id=\"glyph0-9\">\n",
       "<path style=\"stroke:none;\" d=\"M 0.859375 -7.265625 L 2.625 -7.265625 L 2.625 -6.265625 C 3.257812 -7.035156 4.015625 -7.421875 4.890625 -7.421875 C 5.359375 -7.421875 5.765625 -7.320312 6.109375 -7.125 C 6.453125 -6.9375 6.734375 -6.648438 6.953125 -6.265625 C 7.265625 -6.648438 7.601562 -6.9375 7.96875 -7.125 C 8.34375 -7.320312 8.738281 -7.421875 9.15625 -7.421875 C 9.6875 -7.421875 10.132812 -7.3125 10.5 -7.09375 C 10.875 -6.882812 11.15625 -6.566406 11.34375 -6.140625 C 11.476562 -5.835938 11.546875 -5.335938 11.546875 -4.640625 L 11.546875 0 L 9.625 0 L 9.625 -4.15625 C 9.625 -4.875 9.554688 -5.335938 9.421875 -5.546875 C 9.242188 -5.816406 8.96875 -5.953125 8.59375 -5.953125 C 8.332031 -5.953125 8.082031 -5.867188 7.84375 -5.703125 C 7.601562 -5.546875 7.429688 -5.304688 7.328125 -4.984375 C 7.222656 -4.671875 7.171875 -4.171875 7.171875 -3.484375 L 7.171875 0 L 5.25 0 L 5.25 -3.984375 C 5.25 -4.679688 5.210938 -5.132812 5.140625 -5.34375 C 5.078125 -5.550781 4.972656 -5.703125 4.828125 -5.796875 C 4.679688 -5.898438 4.488281 -5.953125 4.25 -5.953125 C 3.945312 -5.953125 3.675781 -5.867188 3.4375 -5.703125 C 3.207031 -5.546875 3.039062 -5.316406 2.9375 -5.015625 C 2.832031 -4.722656 2.78125 -4.226562 2.78125 -3.53125 L 2.78125 0 L 0.859375 0 Z M 0.859375 -7.265625 \"/>\n",
       "</symbol>\n",
       "<symbol overflow=\"visible\" id=\"glyph0-10\">\n",
       "<path style=\"stroke:none;\" d=\"\"/>\n",
       "</symbol>\n",
       "<symbol overflow=\"visible\" id=\"glyph0-11\">\n",
       "<path style=\"stroke:none;\" d=\"M 0.171875 -7.265625 L 1.234375 -7.265625 L 1.234375 -7.8125 C 1.234375 -8.414062 1.296875 -8.867188 1.421875 -9.171875 C 1.554688 -9.472656 1.796875 -9.71875 2.140625 -9.90625 C 2.492188 -10.09375 2.9375 -10.1875 3.46875 -10.1875 C 4.007812 -10.1875 4.546875 -10.109375 5.078125 -9.953125 L 4.8125 -8.609375 C 4.507812 -8.679688 4.21875 -8.71875 3.9375 -8.71875 C 3.65625 -8.71875 3.453125 -8.648438 3.328125 -8.515625 C 3.210938 -8.390625 3.15625 -8.140625 3.15625 -7.765625 L 3.15625 -7.265625 L 4.59375 -7.265625 L 4.59375 -5.75 L 3.15625 -5.75 L 3.15625 0 L 1.234375 0 L 1.234375 -5.75 L 0.171875 -5.75 Z M 0.171875 -7.265625 \"/>\n",
       "</symbol>\n",
       "<symbol overflow=\"visible\" id=\"glyph0-12\">\n",
       "<path style=\"stroke:none;\" d=\"M 0.953125 -7.265625 L 2.734375 -7.265625 L 2.734375 -6.1875 C 2.972656 -6.550781 3.289062 -6.847656 3.6875 -7.078125 C 4.082031 -7.304688 4.519531 -7.421875 5 -7.421875 C 5.84375 -7.421875 6.554688 -7.085938 7.140625 -6.421875 C 7.734375 -5.765625 8.03125 -4.847656 8.03125 -3.671875 C 8.03125 -2.460938 7.734375 -1.519531 7.140625 -0.84375 C 6.546875 -0.164062 5.828125 0.171875 4.984375 0.171875 C 4.585938 0.171875 4.222656 0.09375 3.890625 -0.0625 C 3.566406 -0.226562 3.226562 -0.503906 2.875 -0.890625 L 2.875 2.765625 L 0.953125 2.765625 Z M 2.84375 -3.75 C 2.84375 -2.9375 3.003906 -2.332031 3.328125 -1.9375 C 3.660156 -1.550781 4.054688 -1.359375 4.515625 -1.359375 C 4.960938 -1.359375 5.332031 -1.535156 5.625 -1.890625 C 5.925781 -2.253906 6.078125 -2.84375 6.078125 -3.65625 C 6.078125 -4.414062 5.921875 -4.976562 5.609375 -5.34375 C 5.304688 -5.71875 4.929688 -5.90625 4.484375 -5.90625 C 4.015625 -5.90625 3.625 -5.722656 3.3125 -5.359375 C 3 -4.992188 2.84375 -4.457031 2.84375 -3.75 Z M 2.84375 -3.75 \"/>\n",
       "</symbol>\n",
       "<symbol overflow=\"visible\" id=\"glyph0-13\">\n",
       "<path style=\"stroke:none;\" d=\"M 5.203125 -2.3125 L 7.125 -1.984375 C 6.875 -1.285156 6.484375 -0.75 5.953125 -0.375 C 5.421875 -0.0078125 4.757812 0.171875 3.96875 0.171875 C 2.707031 0.171875 1.769531 -0.242188 1.15625 -1.078125 C 0.675781 -1.734375 0.4375 -2.566406 0.4375 -3.578125 C 0.4375 -4.773438 0.75 -5.710938 1.375 -6.390625 C 2.007812 -7.078125 2.8125 -7.421875 3.78125 -7.421875 C 4.851562 -7.421875 5.703125 -7.0625 6.328125 -6.34375 C 6.953125 -5.632812 7.25 -4.546875 7.21875 -3.078125 L 2.40625 -3.078125 C 2.425781 -2.503906 2.582031 -2.054688 2.875 -1.734375 C 3.175781 -1.421875 3.546875 -1.265625 3.984375 -1.265625 C 4.285156 -1.265625 4.535156 -1.347656 4.734375 -1.515625 C 4.941406 -1.679688 5.097656 -1.945312 5.203125 -2.3125 Z M 5.3125 -4.25 C 5.300781 -4.8125 5.160156 -5.234375 4.890625 -5.515625 C 4.617188 -5.804688 4.285156 -5.953125 3.890625 -5.953125 C 3.472656 -5.953125 3.125 -5.800781 2.84375 -5.5 C 2.570312 -5.1875 2.441406 -4.769531 2.453125 -4.25 Z M 5.3125 -4.25 \"/>\n",
       "</symbol>\n",
       "<symbol overflow=\"visible\" id=\"glyph0-14\">\n",
       "<path style=\"stroke:none;\" d=\"M 7.65625 0 L 5.875 0 L 5.875 -1.0625 C 5.582031 -0.644531 5.234375 -0.332031 4.828125 -0.125 C 4.421875 0.0703125 4.015625 0.171875 3.609375 0.171875 C 2.773438 0.171875 2.0625 -0.164062 1.46875 -0.84375 C 0.875 -1.519531 0.578125 -2.457031 0.578125 -3.65625 C 0.578125 -4.882812 0.863281 -5.816406 1.4375 -6.453125 C 2.019531 -7.097656 2.753906 -7.421875 3.640625 -7.421875 C 4.453125 -7.421875 5.15625 -7.082031 5.75 -6.40625 L 5.75 -10.015625 L 7.65625 -10.015625 Z M 2.53125 -3.78125 C 2.53125 -3.007812 2.640625 -2.453125 2.859375 -2.109375 C 3.171875 -1.609375 3.601562 -1.359375 4.15625 -1.359375 C 4.59375 -1.359375 4.96875 -1.546875 5.28125 -1.921875 C 5.59375 -2.296875 5.75 -2.859375 5.75 -3.609375 C 5.75 -4.441406 5.597656 -5.039062 5.296875 -5.40625 C 4.992188 -5.769531 4.609375 -5.953125 4.140625 -5.953125 C 3.679688 -5.953125 3.296875 -5.769531 2.984375 -5.40625 C 2.679688 -5.050781 2.53125 -4.507812 2.53125 -3.78125 Z M 2.53125 -3.78125 \"/>\n",
       "</symbol>\n",
       "<symbol overflow=\"visible\" id=\"glyph0-15\">\n",
       "<path style=\"stroke:none;\" d=\"M -0.125 2.765625 L -0.125 1.53125 L 7.859375 1.53125 L 7.859375 2.765625 Z M -0.125 2.765625 \"/>\n",
       "</symbol>\n",
       "<symbol overflow=\"visible\" id=\"glyph0-16\">\n",
       "<path style=\"stroke:none;\" d=\"M 5.75 2.765625 L 5.75 -0.890625 C 5.5 -0.566406 5.1875 -0.304688 4.8125 -0.109375 C 4.4375 0.078125 4.035156 0.171875 3.609375 0.171875 C 2.773438 0.171875 2.09375 -0.140625 1.5625 -0.765625 C 0.9375 -1.492188 0.625 -2.476562 0.625 -3.71875 C 0.625 -4.882812 0.914062 -5.789062 1.5 -6.4375 C 2.09375 -7.09375 2.828125 -7.421875 3.703125 -7.421875 C 4.191406 -7.421875 4.609375 -7.316406 4.953125 -7.109375 C 5.304688 -6.910156 5.625 -6.601562 5.90625 -6.1875 L 5.90625 -7.265625 L 7.671875 -7.265625 L 7.671875 2.765625 Z M 5.8125 -3.71875 C 5.8125 -4.457031 5.660156 -5.007812 5.359375 -5.375 C 5.054688 -5.738281 4.675781 -5.921875 4.21875 -5.921875 C 3.75 -5.921875 3.359375 -5.734375 3.046875 -5.359375 C 2.734375 -4.992188 2.578125 -4.410156 2.578125 -3.609375 C 2.578125 -2.804688 2.726562 -2.226562 3.03125 -1.875 C 3.332031 -1.53125 3.707031 -1.359375 4.15625 -1.359375 C 4.59375 -1.359375 4.976562 -1.554688 5.3125 -1.953125 C 5.644531 -2.347656 5.8125 -2.9375 5.8125 -3.71875 Z M 5.8125 -3.71875 \"/>\n",
       "</symbol>\n",
       "<symbol overflow=\"visible\" id=\"glyph0-17\">\n",
       "<path style=\"stroke:none;\" d=\"M 0.09375 -7.265625 L 2.140625 -7.265625 L 3.875 -2.109375 L 5.578125 -7.265625 L 7.5625 -7.265625 L 5 -0.28125 L 4.546875 0.984375 C 4.367188 1.410156 4.203125 1.734375 4.046875 1.953125 C 3.898438 2.179688 3.726562 2.363281 3.53125 2.5 C 3.332031 2.644531 3.085938 2.753906 2.796875 2.828125 C 2.503906 2.910156 2.175781 2.953125 1.8125 2.953125 C 1.445312 2.953125 1.085938 2.910156 0.734375 2.828125 L 0.5625 1.328125 C 0.863281 1.390625 1.132812 1.421875 1.375 1.421875 C 1.820312 1.421875 2.148438 1.285156 2.359375 1.015625 C 2.578125 0.753906 2.742188 0.421875 2.859375 0.015625 Z M 0.09375 -7.265625 \"/>\n",
       "</symbol>\n",
       "<symbol overflow=\"visible\" id=\"glyph1-0\">\n",
       "<path style=\"stroke:none;\" d=\"M 1.5 0 L 1.5 -7.5 L 7.5 -7.5 L 7.5 0 Z M 1.6875 -0.1875 L 7.3125 -0.1875 L 7.3125 -7.3125 L 1.6875 -7.3125 Z M 1.6875 -0.1875 \"/>\n",
       "</symbol>\n",
       "<symbol overflow=\"visible\" id=\"glyph1-1\">\n",
       "<path style=\"stroke:none;\" d=\"M 0.796875 2.390625 L 0.796875 -6.21875 L 1.75 -6.21875 L 1.75 -5.421875 C 1.976562 -5.734375 2.234375 -5.96875 2.515625 -6.125 C 2.804688 -6.28125 3.15625 -6.359375 3.5625 -6.359375 C 4.09375 -6.359375 4.5625 -6.222656 4.96875 -5.953125 C 5.375 -5.679688 5.675781 -5.296875 5.875 -4.796875 C 6.082031 -4.296875 6.1875 -3.75 6.1875 -3.15625 C 6.1875 -2.519531 6.070312 -1.945312 5.84375 -1.4375 C 5.625 -0.925781 5.296875 -0.535156 4.859375 -0.265625 C 4.421875 0.00390625 3.960938 0.140625 3.484375 0.140625 C 3.128906 0.140625 2.8125 0.0664062 2.53125 -0.078125 C 2.25 -0.234375 2.019531 -0.421875 1.84375 -0.640625 L 1.84375 2.390625 Z M 1.75 -3.078125 C 1.75 -2.273438 1.910156 -1.679688 2.234375 -1.296875 C 2.554688 -0.921875 2.945312 -0.734375 3.40625 -0.734375 C 3.875 -0.734375 4.273438 -0.929688 4.609375 -1.328125 C 4.941406 -1.722656 5.109375 -2.335938 5.109375 -3.171875 C 5.109375 -3.960938 4.945312 -4.550781 4.625 -4.9375 C 4.300781 -5.332031 3.910156 -5.53125 3.453125 -5.53125 C 3.003906 -5.53125 2.609375 -5.320312 2.265625 -4.90625 C 1.921875 -4.488281 1.75 -3.878906 1.75 -3.078125 Z M 1.75 -3.078125 \"/>\n",
       "</symbol>\n",
       "<symbol overflow=\"visible\" id=\"glyph1-2\">\n",
       "<path style=\"stroke:none;\" d=\"M 0.78125 0 L 0.78125 -6.21875 L 1.734375 -6.21875 L 1.734375 -5.28125 C 1.972656 -5.71875 2.191406 -6.003906 2.390625 -6.140625 C 2.597656 -6.285156 2.828125 -6.359375 3.078125 -6.359375 C 3.429688 -6.359375 3.789062 -6.25 4.15625 -6.03125 L 3.796875 -5.046875 C 3.535156 -5.203125 3.28125 -5.28125 3.03125 -5.28125 C 2.789062 -5.28125 2.578125 -5.207031 2.390625 -5.0625 C 2.210938 -4.925781 2.085938 -4.734375 2.015625 -4.484375 C 1.890625 -4.109375 1.828125 -3.703125 1.828125 -3.265625 L 1.828125 0 Z M 0.78125 0 \"/>\n",
       "</symbol>\n",
       "<symbol overflow=\"visible\" id=\"glyph1-3\">\n",
       "<path style=\"stroke:none;\" d=\"M 5.046875 -2 L 6.140625 -1.875 C 5.972656 -1.238281 5.65625 -0.742188 5.1875 -0.390625 C 4.71875 -0.0351562 4.125 0.140625 3.40625 0.140625 C 2.5 0.140625 1.773438 -0.140625 1.234375 -0.703125 C 0.703125 -1.265625 0.4375 -2.050781 0.4375 -3.0625 C 0.4375 -4.101562 0.707031 -4.910156 1.25 -5.484375 C 1.789062 -6.066406 2.488281 -6.359375 3.34375 -6.359375 C 4.175781 -6.359375 4.851562 -6.078125 5.375 -5.515625 C 5.90625 -4.953125 6.171875 -4.15625 6.171875 -3.125 C 6.171875 -3.0625 6.171875 -2.96875 6.171875 -2.84375 L 1.53125 -2.84375 C 1.570312 -2.15625 1.765625 -1.628906 2.109375 -1.265625 C 2.453125 -0.910156 2.882812 -0.734375 3.40625 -0.734375 C 3.789062 -0.734375 4.117188 -0.832031 4.390625 -1.03125 C 4.671875 -1.238281 4.890625 -1.5625 5.046875 -2 Z M 1.59375 -3.703125 L 5.0625 -3.703125 C 5.019531 -4.234375 4.890625 -4.628906 4.671875 -4.890625 C 4.328125 -5.296875 3.890625 -5.5 3.359375 -5.5 C 2.867188 -5.5 2.457031 -5.335938 2.125 -5.015625 C 1.800781 -4.691406 1.625 -4.253906 1.59375 -3.703125 Z M 1.59375 -3.703125 \"/>\n",
       "</symbol>\n",
       "<symbol overflow=\"visible\" id=\"glyph1-4\">\n",
       "<path style=\"stroke:none;\" d=\"M 4.828125 0 L 4.828125 -0.78125 C 4.429688 -0.164062 3.851562 0.140625 3.09375 0.140625 C 2.59375 0.140625 2.132812 0.00390625 1.71875 -0.265625 C 1.300781 -0.546875 0.976562 -0.929688 0.75 -1.421875 C 0.519531 -1.910156 0.40625 -2.472656 0.40625 -3.109375 C 0.40625 -3.722656 0.507812 -4.285156 0.71875 -4.796875 C 0.925781 -5.304688 1.238281 -5.691406 1.65625 -5.953125 C 2.070312 -6.222656 2.535156 -6.359375 3.046875 -6.359375 C 3.421875 -6.359375 3.753906 -6.28125 4.046875 -6.125 C 4.335938 -5.96875 4.578125 -5.765625 4.765625 -5.515625 L 4.765625 -8.59375 L 5.8125 -8.59375 L 5.8125 0 Z M 1.5 -3.109375 C 1.5 -2.304688 1.664062 -1.707031 2 -1.3125 C 2.332031 -0.925781 2.726562 -0.734375 3.1875 -0.734375 C 3.644531 -0.734375 4.035156 -0.921875 4.359375 -1.296875 C 4.679688 -1.671875 4.84375 -2.242188 4.84375 -3.015625 C 4.84375 -3.867188 4.675781 -4.492188 4.34375 -4.890625 C 4.019531 -5.285156 3.617188 -5.484375 3.140625 -5.484375 C 2.671875 -5.484375 2.28125 -5.289062 1.96875 -4.90625 C 1.65625 -4.53125 1.5 -3.929688 1.5 -3.109375 Z M 1.5 -3.109375 \"/>\n",
       "</symbol>\n",
       "<symbol overflow=\"visible\" id=\"glyph1-5\">\n",
       "<path style=\"stroke:none;\" d=\"M 0.375 -1.859375 L 1.40625 -2.015625 C 1.46875 -1.597656 1.628906 -1.28125 1.890625 -1.0625 C 2.160156 -0.84375 2.539062 -0.734375 3.03125 -0.734375 C 3.507812 -0.734375 3.863281 -0.828125 4.09375 -1.015625 C 4.332031 -1.210938 4.453125 -1.445312 4.453125 -1.71875 C 4.453125 -1.957031 4.347656 -2.144531 4.140625 -2.28125 C 3.992188 -2.375 3.632812 -2.492188 3.0625 -2.640625 C 2.289062 -2.835938 1.753906 -3.003906 1.453125 -3.140625 C 1.160156 -3.285156 0.9375 -3.484375 0.78125 -3.734375 C 0.625 -3.984375 0.546875 -4.265625 0.546875 -4.578125 C 0.546875 -4.847656 0.609375 -5.101562 0.734375 -5.34375 C 0.859375 -5.582031 1.03125 -5.78125 1.25 -5.9375 C 1.414062 -6.050781 1.640625 -6.148438 1.921875 -6.234375 C 2.203125 -6.316406 2.507812 -6.359375 2.84375 -6.359375 C 3.320312 -6.359375 3.742188 -6.285156 4.109375 -6.140625 C 4.484375 -6.003906 4.757812 -5.816406 4.9375 -5.578125 C 5.113281 -5.335938 5.234375 -5.019531 5.296875 -4.625 L 4.265625 -4.484375 C 4.222656 -4.796875 4.085938 -5.039062 3.859375 -5.21875 C 3.640625 -5.40625 3.320312 -5.5 2.90625 -5.5 C 2.425781 -5.5 2.082031 -5.414062 1.875 -5.25 C 1.664062 -5.09375 1.5625 -4.90625 1.5625 -4.6875 C 1.5625 -4.550781 1.601562 -4.429688 1.6875 -4.328125 C 1.78125 -4.210938 1.914062 -4.117188 2.09375 -4.046875 C 2.195312 -4.003906 2.507812 -3.914062 3.03125 -3.78125 C 3.78125 -3.570312 4.300781 -3.40625 4.59375 -3.28125 C 4.882812 -3.15625 5.113281 -2.972656 5.28125 -2.734375 C 5.445312 -2.492188 5.53125 -2.191406 5.53125 -1.828125 C 5.53125 -1.472656 5.425781 -1.140625 5.21875 -0.828125 C 5.019531 -0.523438 4.726562 -0.285156 4.34375 -0.109375 C 3.957031 0.0546875 3.519531 0.140625 3.03125 0.140625 C 2.21875 0.140625 1.597656 -0.0234375 1.171875 -0.359375 C 0.753906 -0.703125 0.488281 -1.203125 0.375 -1.859375 Z M 0.375 -1.859375 \"/>\n",
       "</symbol>\n",
       "<symbol overflow=\"visible\" id=\"glyph1-6\">\n",
       "<path style=\"stroke:none;\" d=\"M -0.1875 2.390625 L -0.1875 1.625 L 6.8125 1.625 L 6.8125 2.390625 Z M -0.1875 2.390625 \"/>\n",
       "</symbol>\n",
       "<symbol overflow=\"visible\" id=\"glyph1-7\">\n",
       "<path style=\"stroke:none;\" d=\"M 4.765625 2.390625 L 4.765625 -0.65625 C 4.597656 -0.425781 4.363281 -0.234375 4.0625 -0.078125 C 3.769531 0.0664062 3.457031 0.140625 3.125 0.140625 C 2.382812 0.140625 1.75 -0.148438 1.21875 -0.734375 C 0.6875 -1.328125 0.421875 -2.140625 0.421875 -3.171875 C 0.421875 -3.796875 0.53125 -4.351562 0.75 -4.84375 C 0.96875 -5.34375 1.28125 -5.71875 1.6875 -5.96875 C 2.101562 -6.226562 2.554688 -6.359375 3.046875 -6.359375 C 3.816406 -6.359375 4.421875 -6.035156 4.859375 -5.390625 L 4.859375 -6.21875 L 5.8125 -6.21875 L 5.8125 2.390625 Z M 1.5 -3.125 C 1.5 -2.320312 1.664062 -1.722656 2 -1.328125 C 2.34375 -0.929688 2.75 -0.734375 3.21875 -0.734375 C 3.664062 -0.734375 4.050781 -0.921875 4.375 -1.296875 C 4.695312 -1.679688 4.859375 -2.257812 4.859375 -3.03125 C 4.859375 -3.863281 4.6875 -4.488281 4.34375 -4.90625 C 4.007812 -5.320312 3.609375 -5.53125 3.140625 -5.53125 C 2.691406 -5.53125 2.304688 -5.332031 1.984375 -4.9375 C 1.660156 -4.550781 1.5 -3.945312 1.5 -3.125 Z M 1.5 -3.125 \"/>\n",
       "</symbol>\n",
       "<symbol overflow=\"visible\" id=\"glyph1-8\">\n",
       "<path style=\"stroke:none;\" d=\"M 3.09375 -0.9375 L 3.25 -0.015625 C 2.945312 0.046875 2.679688 0.078125 2.453125 0.078125 C 2.066406 0.078125 1.769531 0.0195312 1.5625 -0.09375 C 1.351562 -0.21875 1.203125 -0.378906 1.109375 -0.578125 C 1.023438 -0.773438 0.984375 -1.191406 0.984375 -1.828125 L 0.984375 -5.40625 L 0.21875 -5.40625 L 0.21875 -6.21875 L 0.984375 -6.21875 L 0.984375 -7.765625 L 2.03125 -8.390625 L 2.03125 -6.21875 L 3.09375 -6.21875 L 3.09375 -5.40625 L 2.03125 -5.40625 L 2.03125 -1.765625 C 2.03125 -1.460938 2.046875 -1.269531 2.078125 -1.1875 C 2.117188 -1.101562 2.179688 -1.035156 2.265625 -0.984375 C 2.347656 -0.929688 2.46875 -0.90625 2.625 -0.90625 C 2.75 -0.90625 2.90625 -0.914062 3.09375 -0.9375 Z M 3.09375 -0.9375 \"/>\n",
       "</symbol>\n",
       "<symbol overflow=\"visible\" id=\"glyph1-9\">\n",
       "<path style=\"stroke:none;\" d=\"M 0.75 2.390625 L 0.625 1.40625 C 0.851562 1.46875 1.054688 1.5 1.234375 1.5 C 1.460938 1.5 1.644531 1.457031 1.78125 1.375 C 1.925781 1.300781 2.046875 1.195312 2.140625 1.0625 C 2.203125 0.945312 2.3125 0.679688 2.46875 0.265625 C 2.476562 0.210938 2.507812 0.128906 2.5625 0.015625 L 0.1875 -6.21875 L 1.328125 -6.21875 L 2.625 -2.625 C 2.789062 -2.164062 2.941406 -1.679688 3.078125 -1.171875 C 3.203125 -1.660156 3.347656 -2.132812 3.515625 -2.59375 L 4.84375 -6.21875 L 5.890625 -6.21875 L 3.53125 0.109375 C 3.269531 0.785156 3.070312 1.253906 2.9375 1.515625 C 2.75 1.867188 2.53125 2.125 2.28125 2.28125 C 2.039062 2.445312 1.753906 2.53125 1.421875 2.53125 C 1.222656 2.53125 1 2.484375 0.75 2.390625 Z M 0.75 2.390625 \"/>\n",
       "</symbol>\n",
       "<symbol overflow=\"visible\" id=\"glyph1-10\">\n",
       "<path style=\"stroke:none;\" d=\"M 0.5 -4.234375 C 0.5 -5.253906 0.601562 -6.070312 0.8125 -6.6875 C 1.019531 -7.3125 1.328125 -7.789062 1.734375 -8.125 C 2.148438 -8.457031 2.671875 -8.625 3.296875 -8.625 C 3.753906 -8.625 4.15625 -8.53125 4.5 -8.34375 C 4.851562 -8.15625 5.144531 -7.882812 5.375 -7.53125 C 5.601562 -7.1875 5.78125 -6.765625 5.90625 -6.265625 C 6.03125 -5.765625 6.09375 -5.085938 6.09375 -4.234375 C 6.09375 -3.222656 5.988281 -2.410156 5.78125 -1.796875 C 5.582031 -1.179688 5.273438 -0.703125 4.859375 -0.359375 C 4.453125 -0.0234375 3.929688 0.140625 3.296875 0.140625 C 2.472656 0.140625 1.820312 -0.15625 1.34375 -0.75 C 0.78125 -1.457031 0.5 -2.617188 0.5 -4.234375 Z M 1.578125 -4.234375 C 1.578125 -2.828125 1.742188 -1.890625 2.078125 -1.421875 C 2.410156 -0.953125 2.816406 -0.71875 3.296875 -0.71875 C 3.785156 -0.71875 4.191406 -0.953125 4.515625 -1.421875 C 4.847656 -1.890625 5.015625 -2.828125 5.015625 -4.234375 C 5.015625 -5.648438 4.847656 -6.585938 4.515625 -7.046875 C 4.191406 -7.515625 3.78125 -7.75 3.28125 -7.75 C 2.800781 -7.75 2.414062 -7.546875 2.125 -7.140625 C 1.757812 -6.617188 1.578125 -5.648438 1.578125 -4.234375 Z M 1.578125 -4.234375 \"/>\n",
       "</symbol>\n",
       "<symbol overflow=\"visible\" id=\"glyph1-11\">\n",
       "<path style=\"stroke:none;\" d=\"M 1.09375 0 L 1.09375 -1.203125 L 2.296875 -1.203125 L 2.296875 0 Z M 1.09375 0 \"/>\n",
       "</symbol>\n",
       "<symbol overflow=\"visible\" id=\"glyph1-12\">\n",
       "<path style=\"stroke:none;\" d=\"M 2.125 -4.65625 C 1.6875 -4.820312 1.359375 -5.050781 1.140625 -5.34375 C 0.929688 -5.644531 0.828125 -6 0.828125 -6.40625 C 0.828125 -7.03125 1.050781 -7.554688 1.5 -7.984375 C 1.957031 -8.410156 2.554688 -8.625 3.296875 -8.625 C 4.046875 -8.625 4.648438 -8.40625 5.109375 -7.96875 C 5.566406 -7.53125 5.796875 -7 5.796875 -6.375 C 5.796875 -5.976562 5.691406 -5.632812 5.484375 -5.34375 C 5.273438 -5.050781 4.957031 -4.820312 4.53125 -4.65625 C 5.0625 -4.488281 5.460938 -4.210938 5.734375 -3.828125 C 6.003906 -3.441406 6.140625 -2.984375 6.140625 -2.453125 C 6.140625 -1.722656 5.878906 -1.109375 5.359375 -0.609375 C 4.847656 -0.109375 4.164062 0.140625 3.3125 0.140625 C 2.46875 0.140625 1.785156 -0.109375 1.265625 -0.609375 C 0.742188 -1.109375 0.484375 -1.734375 0.484375 -2.484375 C 0.484375 -3.046875 0.625 -3.515625 0.90625 -3.890625 C 1.195312 -4.265625 1.601562 -4.519531 2.125 -4.65625 Z M 1.90625 -6.453125 C 1.90625 -6.046875 2.035156 -5.710938 2.296875 -5.453125 C 2.566406 -5.191406 2.910156 -5.0625 3.328125 -5.0625 C 3.734375 -5.0625 4.066406 -5.1875 4.328125 -5.4375 C 4.585938 -5.695312 4.71875 -6.015625 4.71875 -6.390625 C 4.71875 -6.773438 4.582031 -7.097656 4.3125 -7.359375 C 4.039062 -7.628906 3.707031 -7.765625 3.3125 -7.765625 C 2.90625 -7.765625 2.566406 -7.632812 2.296875 -7.375 C 2.035156 -7.113281 1.90625 -6.804688 1.90625 -6.453125 Z M 1.578125 -2.484375 C 1.578125 -2.179688 1.644531 -1.890625 1.78125 -1.609375 C 1.925781 -1.328125 2.140625 -1.109375 2.421875 -0.953125 C 2.703125 -0.796875 3.003906 -0.71875 3.328125 -0.71875 C 3.828125 -0.71875 4.238281 -0.878906 4.5625 -1.203125 C 4.894531 -1.523438 5.0625 -1.9375 5.0625 -2.4375 C 5.0625 -2.945312 4.894531 -3.367188 4.5625 -3.703125 C 4.226562 -4.035156 3.804688 -4.203125 3.296875 -4.203125 C 2.796875 -4.203125 2.382812 -4.035156 2.0625 -3.703125 C 1.738281 -3.378906 1.578125 -2.972656 1.578125 -2.484375 Z M 1.578125 -2.484375 \"/>\n",
       "</symbol>\n",
       "<symbol overflow=\"visible\" id=\"glyph1-13\">\n",
       "<path style=\"stroke:none;\" d=\"M 4.46875 0 L 3.421875 0 L 3.421875 -6.71875 C 3.160156 -6.476562 2.820312 -6.234375 2.40625 -5.984375 C 2 -5.742188 1.632812 -5.566406 1.3125 -5.453125 L 1.3125 -6.46875 C 1.894531 -6.75 2.40625 -7.082031 2.84375 -7.46875 C 3.289062 -7.863281 3.609375 -8.25 3.796875 -8.625 L 4.46875 -8.625 Z M 4.46875 0 \"/>\n",
       "</symbol>\n",
       "<symbol overflow=\"visible\" id=\"glyph1-14\">\n",
       "<path style=\"stroke:none;\" d=\"M 6.046875 -1.015625 L 6.046875 0 L 0.359375 0 C 0.359375 -0.25 0.398438 -0.492188 0.484375 -0.734375 C 0.628906 -1.117188 0.859375 -1.5 1.171875 -1.875 C 1.492188 -2.25 1.957031 -2.679688 2.5625 -3.171875 C 3.5 -3.941406 4.128906 -4.550781 4.453125 -5 C 4.785156 -5.445312 4.953125 -5.867188 4.953125 -6.265625 C 4.953125 -6.679688 4.800781 -7.03125 4.5 -7.3125 C 4.195312 -7.601562 3.804688 -7.75 3.328125 -7.75 C 2.816406 -7.75 2.410156 -7.597656 2.109375 -7.296875 C 1.804688 -6.992188 1.648438 -6.570312 1.640625 -6.03125 L 0.5625 -6.140625 C 0.632812 -6.953125 0.910156 -7.566406 1.390625 -7.984375 C 1.878906 -8.410156 2.535156 -8.625 3.359375 -8.625 C 4.179688 -8.625 4.832031 -8.394531 5.3125 -7.9375 C 5.789062 -7.476562 6.03125 -6.910156 6.03125 -6.234375 C 6.03125 -5.890625 5.957031 -5.550781 5.8125 -5.21875 C 5.675781 -4.894531 5.441406 -4.546875 5.109375 -4.171875 C 4.785156 -3.804688 4.25 -3.304688 3.5 -2.671875 C 2.863281 -2.140625 2.453125 -1.773438 2.265625 -1.578125 C 2.085938 -1.390625 1.941406 -1.203125 1.828125 -1.015625 Z M 6.046875 -1.015625 \"/>\n",
       "</symbol>\n",
       "<symbol overflow=\"visible\" id=\"glyph1-15\">\n",
       "<path style=\"stroke:none;\" d=\"M 3.875 0 L 3.875 -2.0625 L 0.15625 -2.0625 L 0.15625 -3.03125 L 4.078125 -8.59375 L 4.9375 -8.59375 L 4.9375 -3.03125 L 6.09375 -3.03125 L 6.09375 -2.0625 L 4.9375 -2.0625 L 4.9375 0 Z M 3.875 -3.03125 L 3.875 -6.890625 L 1.1875 -3.03125 Z M 3.875 -3.03125 \"/>\n",
       "</symbol>\n",
       "<symbol overflow=\"visible\" id=\"glyph1-16\">\n",
       "<path style=\"stroke:none;\" d=\"M 5.96875 -6.484375 L 4.921875 -6.40625 C 4.828125 -6.820312 4.695312 -7.125 4.53125 -7.3125 C 4.238281 -7.613281 3.882812 -7.765625 3.46875 -7.765625 C 3.132812 -7.765625 2.835938 -7.671875 2.578125 -7.484375 C 2.253906 -7.234375 1.992188 -6.875 1.796875 -6.40625 C 1.609375 -5.945312 1.507812 -5.289062 1.5 -4.4375 C 1.75 -4.820312 2.054688 -5.109375 2.421875 -5.296875 C 2.796875 -5.484375 3.1875 -5.578125 3.59375 -5.578125 C 4.289062 -5.578125 4.882812 -5.316406 5.375 -4.796875 C 5.875 -4.273438 6.125 -3.609375 6.125 -2.796875 C 6.125 -2.253906 6.003906 -1.75 5.765625 -1.28125 C 5.535156 -0.820312 5.21875 -0.46875 4.8125 -0.21875 C 4.40625 0.0195312 3.945312 0.140625 3.4375 0.140625 C 2.550781 0.140625 1.832031 -0.179688 1.28125 -0.828125 C 0.726562 -1.472656 0.453125 -2.535156 0.453125 -4.015625 C 0.453125 -5.679688 0.757812 -6.890625 1.375 -7.640625 C 1.90625 -8.296875 2.625 -8.625 3.53125 -8.625 C 4.207031 -8.625 4.757812 -8.429688 5.1875 -8.046875 C 5.625 -7.671875 5.882812 -7.148438 5.96875 -6.484375 Z M 1.671875 -2.78125 C 1.671875 -2.414062 1.742188 -2.066406 1.890625 -1.734375 C 2.046875 -1.410156 2.257812 -1.160156 2.53125 -0.984375 C 2.8125 -0.804688 3.109375 -0.71875 3.421875 -0.71875 C 3.859375 -0.71875 4.238281 -0.894531 4.5625 -1.25 C 4.882812 -1.613281 5.046875 -2.101562 5.046875 -2.71875 C 5.046875 -3.3125 4.882812 -3.78125 4.5625 -4.125 C 4.25 -4.46875 3.851562 -4.640625 3.375 -4.640625 C 2.894531 -4.640625 2.488281 -4.46875 2.15625 -4.125 C 1.832031 -3.78125 1.671875 -3.332031 1.671875 -2.78125 Z M 1.671875 -2.78125 \"/>\n",
       "</symbol>\n",
       "<symbol overflow=\"visible\" id=\"glyph2-0\">\n",
       "<path style=\"stroke:none;\" d=\"M 0 -1.5 L -7.5 -1.5 L -7.5 -7.5 L 0 -7.5 Z M -0.1875 -1.6875 L -0.1875 -7.3125 L -7.3125 -7.3125 L -7.3125 -1.6875 Z M -0.1875 -1.6875 \"/>\n",
       "</symbol>\n",
       "<symbol overflow=\"visible\" id=\"glyph2-1\">\n",
       "<path style=\"stroke:none;\" d=\"M 0 -0.984375 L -8.59375 -0.984375 L -8.59375 -6.78125 L -7.578125 -6.78125 L -7.578125 -2.125 L -4.921875 -2.125 L -4.921875 -6.15625 L -3.90625 -6.15625 L -3.90625 -2.125 L 0 -2.125 Z M 0 -0.984375 \"/>\n",
       "</symbol>\n",
       "<symbol overflow=\"visible\" id=\"glyph2-2\">\n",
       "<path style=\"stroke:none;\" d=\"M 0 -0.78125 L -6.21875 -0.78125 L -6.21875 -1.734375 L -5.28125 -1.734375 C -5.71875 -1.972656 -6.003906 -2.191406 -6.140625 -2.390625 C -6.285156 -2.597656 -6.359375 -2.828125 -6.359375 -3.078125 C -6.359375 -3.429688 -6.25 -3.789062 -6.03125 -4.15625 L -5.046875 -3.796875 C -5.203125 -3.535156 -5.28125 -3.28125 -5.28125 -3.03125 C -5.28125 -2.789062 -5.207031 -2.578125 -5.0625 -2.390625 C -4.925781 -2.210938 -4.734375 -2.085938 -4.484375 -2.015625 C -4.109375 -1.890625 -3.703125 -1.828125 -3.265625 -1.828125 L 0 -1.828125 Z M 0 -0.78125 \"/>\n",
       "</symbol>\n",
       "<symbol overflow=\"visible\" id=\"glyph2-3\">\n",
       "<path style=\"stroke:none;\" d=\"M -2 -5.046875 L -1.875 -6.140625 C -1.238281 -5.972656 -0.742188 -5.65625 -0.390625 -5.1875 C -0.0351562 -4.71875 0.140625 -4.125 0.140625 -3.40625 C 0.140625 -2.5 -0.140625 -1.773438 -0.703125 -1.234375 C -1.265625 -0.703125 -2.050781 -0.4375 -3.0625 -0.4375 C -4.101562 -0.4375 -4.910156 -0.707031 -5.484375 -1.25 C -6.066406 -1.789062 -6.359375 -2.488281 -6.359375 -3.34375 C -6.359375 -4.175781 -6.078125 -4.851562 -5.515625 -5.375 C -4.953125 -5.90625 -4.15625 -6.171875 -3.125 -6.171875 C -3.0625 -6.171875 -2.96875 -6.171875 -2.84375 -6.171875 L -2.84375 -1.53125 C -2.15625 -1.570312 -1.628906 -1.765625 -1.265625 -2.109375 C -0.910156 -2.453125 -0.734375 -2.882812 -0.734375 -3.40625 C -0.734375 -3.789062 -0.832031 -4.117188 -1.03125 -4.390625 C -1.238281 -4.671875 -1.5625 -4.890625 -2 -5.046875 Z M -3.703125 -1.59375 L -3.703125 -5.0625 C -4.234375 -5.019531 -4.628906 -4.890625 -4.890625 -4.671875 C -5.296875 -4.328125 -5.5 -3.890625 -5.5 -3.359375 C -5.5 -2.867188 -5.335938 -2.457031 -5.015625 -2.125 C -4.691406 -1.800781 -4.253906 -1.625 -3.703125 -1.59375 Z M -3.703125 -1.59375 \"/>\n",
       "</symbol>\n",
       "<symbol overflow=\"visible\" id=\"glyph2-4\">\n",
       "<path style=\"stroke:none;\" d=\"M 2.390625 -4.765625 L -0.65625 -4.765625 C -0.425781 -4.597656 -0.234375 -4.363281 -0.078125 -4.0625 C 0.0664062 -3.769531 0.140625 -3.457031 0.140625 -3.125 C 0.140625 -2.382812 -0.148438 -1.75 -0.734375 -1.21875 C -1.328125 -0.6875 -2.140625 -0.421875 -3.171875 -0.421875 C -3.796875 -0.421875 -4.351562 -0.53125 -4.84375 -0.75 C -5.34375 -0.96875 -5.71875 -1.28125 -5.96875 -1.6875 C -6.226562 -2.101562 -6.359375 -2.554688 -6.359375 -3.046875 C -6.359375 -3.816406 -6.035156 -4.421875 -5.390625 -4.859375 L -6.21875 -4.859375 L -6.21875 -5.8125 L 2.390625 -5.8125 Z M -3.125 -1.5 C -2.320312 -1.5 -1.722656 -1.664062 -1.328125 -2 C -0.929688 -2.34375 -0.734375 -2.75 -0.734375 -3.21875 C -0.734375 -3.664062 -0.921875 -4.050781 -1.296875 -4.375 C -1.679688 -4.695312 -2.257812 -4.859375 -3.03125 -4.859375 C -3.863281 -4.859375 -4.488281 -4.6875 -4.90625 -4.34375 C -5.320312 -4.007812 -5.53125 -3.609375 -5.53125 -3.140625 C -5.53125 -2.691406 -5.332031 -2.304688 -4.9375 -1.984375 C -4.550781 -1.660156 -3.945312 -1.5 -3.125 -1.5 Z M -3.125 -1.5 \"/>\n",
       "</symbol>\n",
       "<symbol overflow=\"visible\" id=\"glyph2-5\">\n",
       "<path style=\"stroke:none;\" d=\"M 0 -4.875 L -0.921875 -4.875 C -0.210938 -4.382812 0.140625 -3.722656 0.140625 -2.890625 C 0.140625 -2.523438 0.0703125 -2.179688 -0.0625 -1.859375 C -0.207031 -1.546875 -0.382812 -1.3125 -0.59375 -1.15625 C -0.8125 -1 -1.078125 -0.890625 -1.390625 -0.828125 C -1.585938 -0.785156 -1.914062 -0.765625 -2.375 -0.765625 L -6.21875 -0.765625 L -6.21875 -1.828125 L -2.765625 -1.828125 C -2.222656 -1.828125 -1.851562 -1.847656 -1.65625 -1.890625 C -1.382812 -1.953125 -1.164062 -2.085938 -1 -2.296875 C -0.84375 -2.515625 -0.765625 -2.785156 -0.765625 -3.109375 C -0.765625 -3.421875 -0.84375 -3.710938 -1 -3.984375 C -1.164062 -4.265625 -1.390625 -4.460938 -1.671875 -4.578125 C -1.953125 -4.703125 -2.359375 -4.765625 -2.890625 -4.765625 L -6.21875 -4.765625 L -6.21875 -5.8125 L 0 -5.8125 Z M 0 -4.875 \"/>\n",
       "</symbol>\n",
       "<symbol overflow=\"visible\" id=\"glyph2-6\">\n",
       "<path style=\"stroke:none;\" d=\"M 0 -0.796875 L -6.21875 -0.796875 L -6.21875 -1.734375 L -5.34375 -1.734375 C -6.019531 -2.191406 -6.359375 -2.851562 -6.359375 -3.71875 C -6.359375 -4.09375 -6.289062 -4.4375 -6.15625 -4.75 C -6.019531 -5.070312 -5.84375 -5.3125 -5.625 -5.46875 C -5.40625 -5.625 -5.148438 -5.734375 -4.859375 -5.796875 C -4.660156 -5.828125 -4.316406 -5.84375 -3.828125 -5.84375 L 0 -5.84375 L 0 -4.796875 L -3.78125 -4.796875 C -4.21875 -4.796875 -4.539062 -4.753906 -4.75 -4.671875 C -4.957031 -4.585938 -5.125 -4.441406 -5.25 -4.234375 C -5.382812 -4.023438 -5.453125 -3.78125 -5.453125 -3.5 C -5.453125 -3.050781 -5.304688 -2.660156 -5.015625 -2.328125 C -4.734375 -2.003906 -4.195312 -1.84375 -3.40625 -1.84375 L 0 -1.84375 Z M 0 -0.796875 \"/>\n",
       "</symbol>\n",
       "<symbol overflow=\"visible\" id=\"glyph2-7\">\n",
       "<path style=\"stroke:none;\" d=\"M -2.28125 -4.859375 L -2.140625 -5.890625 C -1.429688 -5.773438 -0.875 -5.484375 -0.46875 -5.015625 C -0.0625 -4.546875 0.140625 -3.972656 0.140625 -3.296875 C 0.140625 -2.441406 -0.132812 -1.753906 -0.6875 -1.234375 C -1.25 -0.722656 -2.050781 -0.46875 -3.09375 -0.46875 C -3.757812 -0.46875 -4.34375 -0.578125 -4.84375 -0.796875 C -5.351562 -1.023438 -5.734375 -1.363281 -5.984375 -1.8125 C -6.234375 -2.269531 -6.359375 -2.769531 -6.359375 -3.3125 C -6.359375 -3.976562 -6.1875 -4.523438 -5.84375 -4.953125 C -5.507812 -5.390625 -5.023438 -5.671875 -4.390625 -5.796875 L -4.234375 -4.765625 C -4.648438 -4.671875 -4.960938 -4.5 -5.171875 -4.25 C -5.390625 -4 -5.5 -3.695312 -5.5 -3.34375 C -5.5 -2.8125 -5.304688 -2.378906 -4.921875 -2.046875 C -4.546875 -1.710938 -3.945312 -1.546875 -3.125 -1.546875 C -2.28125 -1.546875 -1.671875 -1.707031 -1.296875 -2.03125 C -0.921875 -2.351562 -0.734375 -2.769531 -0.734375 -3.28125 C -0.734375 -3.695312 -0.859375 -4.039062 -1.109375 -4.3125 C -1.359375 -4.59375 -1.75 -4.773438 -2.28125 -4.859375 Z M -2.28125 -4.859375 \"/>\n",
       "</symbol>\n",
       "<symbol overflow=\"visible\" id=\"glyph2-8\">\n",
       "<path style=\"stroke:none;\" d=\"M 2.390625 -0.75 L 1.40625 -0.625 C 1.46875 -0.851562 1.5 -1.054688 1.5 -1.234375 C 1.5 -1.460938 1.457031 -1.644531 1.375 -1.78125 C 1.300781 -1.925781 1.195312 -2.046875 1.0625 -2.140625 C 0.945312 -2.203125 0.679688 -2.3125 0.265625 -2.46875 C 0.210938 -2.476562 0.128906 -2.507812 0.015625 -2.5625 L -6.21875 -0.1875 L -6.21875 -1.328125 L -2.625 -2.625 C -2.164062 -2.789062 -1.679688 -2.941406 -1.171875 -3.078125 C -1.660156 -3.203125 -2.132812 -3.347656 -2.59375 -3.515625 L -6.21875 -4.84375 L -6.21875 -5.890625 L 0.109375 -3.53125 C 0.785156 -3.269531 1.253906 -3.070312 1.515625 -2.9375 C 1.867188 -2.75 2.125 -2.53125 2.28125 -2.28125 C 2.445312 -2.039062 2.53125 -1.753906 2.53125 -1.421875 C 2.53125 -1.222656 2.484375 -1 2.390625 -0.75 Z M 2.390625 -0.75 \"/>\n",
       "</symbol>\n",
       "<symbol overflow=\"visible\" id=\"glyph2-9\">\n",
       "<path style=\"stroke:none;\" d=\"M -4.234375 -0.5 C -5.253906 -0.5 -6.070312 -0.601562 -6.6875 -0.8125 C -7.3125 -1.019531 -7.789062 -1.328125 -8.125 -1.734375 C -8.457031 -2.148438 -8.625 -2.671875 -8.625 -3.296875 C -8.625 -3.753906 -8.53125 -4.15625 -8.34375 -4.5 C -8.15625 -4.851562 -7.882812 -5.144531 -7.53125 -5.375 C -7.1875 -5.601562 -6.765625 -5.78125 -6.265625 -5.90625 C -5.765625 -6.03125 -5.085938 -6.09375 -4.234375 -6.09375 C -3.222656 -6.09375 -2.410156 -5.988281 -1.796875 -5.78125 C -1.179688 -5.582031 -0.703125 -5.273438 -0.359375 -4.859375 C -0.0234375 -4.453125 0.140625 -3.929688 0.140625 -3.296875 C 0.140625 -2.472656 -0.15625 -1.820312 -0.75 -1.34375 C -1.457031 -0.78125 -2.617188 -0.5 -4.234375 -0.5 Z M -4.234375 -1.578125 C -2.828125 -1.578125 -1.890625 -1.742188 -1.421875 -2.078125 C -0.953125 -2.410156 -0.71875 -2.816406 -0.71875 -3.296875 C -0.71875 -3.785156 -0.953125 -4.191406 -1.421875 -4.515625 C -1.890625 -4.847656 -2.828125 -5.015625 -4.234375 -5.015625 C -5.648438 -5.015625 -6.585938 -4.847656 -7.046875 -4.515625 C -7.515625 -4.191406 -7.75 -3.78125 -7.75 -3.28125 C -7.75 -2.800781 -7.546875 -2.414062 -7.140625 -2.125 C -6.617188 -1.757812 -5.648438 -1.578125 -4.234375 -1.578125 Z M -4.234375 -1.578125 \"/>\n",
       "</symbol>\n",
       "<symbol overflow=\"visible\" id=\"glyph2-10\">\n",
       "<path style=\"stroke:none;\" d=\"M -1.015625 -6.046875 L 0 -6.046875 L 0 -0.359375 C -0.25 -0.359375 -0.492188 -0.398438 -0.734375 -0.484375 C -1.117188 -0.628906 -1.5 -0.859375 -1.875 -1.171875 C -2.25 -1.492188 -2.679688 -1.957031 -3.171875 -2.5625 C -3.941406 -3.5 -4.550781 -4.128906 -5 -4.453125 C -5.445312 -4.785156 -5.867188 -4.953125 -6.265625 -4.953125 C -6.679688 -4.953125 -7.03125 -4.800781 -7.3125 -4.5 C -7.601562 -4.195312 -7.75 -3.804688 -7.75 -3.328125 C -7.75 -2.816406 -7.597656 -2.410156 -7.296875 -2.109375 C -6.992188 -1.804688 -6.570312 -1.648438 -6.03125 -1.640625 L -6.140625 -0.5625 C -6.953125 -0.632812 -7.566406 -0.910156 -7.984375 -1.390625 C -8.410156 -1.878906 -8.625 -2.535156 -8.625 -3.359375 C -8.625 -4.179688 -8.394531 -4.832031 -7.9375 -5.3125 C -7.476562 -5.789062 -6.910156 -6.03125 -6.234375 -6.03125 C -5.890625 -6.03125 -5.550781 -5.957031 -5.21875 -5.8125 C -4.894531 -5.675781 -4.546875 -5.441406 -4.171875 -5.109375 C -3.804688 -4.785156 -3.304688 -4.25 -2.671875 -3.5 C -2.140625 -2.863281 -1.773438 -2.453125 -1.578125 -2.265625 C -1.390625 -2.085938 -1.203125 -1.941406 -1.015625 -1.828125 Z M -1.015625 -6.046875 \"/>\n",
       "</symbol>\n",
       "<symbol overflow=\"visible\" id=\"glyph2-11\">\n",
       "<path style=\"stroke:none;\" d=\"M 0 -3.875 L -2.0625 -3.875 L -2.0625 -0.15625 L -3.03125 -0.15625 L -8.59375 -4.078125 L -8.59375 -4.9375 L -3.03125 -4.9375 L -3.03125 -6.09375 L -2.0625 -6.09375 L -2.0625 -4.9375 L 0 -4.9375 Z M -3.03125 -3.875 L -6.890625 -3.875 L -3.03125 -1.1875 Z M -3.03125 -3.875 \"/>\n",
       "</symbol>\n",
       "<symbol overflow=\"visible\" id=\"glyph2-12\">\n",
       "<path style=\"stroke:none;\" d=\"M -6.484375 -5.96875 L -6.40625 -4.921875 C -6.820312 -4.828125 -7.125 -4.695312 -7.3125 -4.53125 C -7.613281 -4.238281 -7.765625 -3.882812 -7.765625 -3.46875 C -7.765625 -3.132812 -7.671875 -2.835938 -7.484375 -2.578125 C -7.234375 -2.253906 -6.875 -1.992188 -6.40625 -1.796875 C -5.945312 -1.609375 -5.289062 -1.507812 -4.4375 -1.5 C -4.820312 -1.75 -5.109375 -2.054688 -5.296875 -2.421875 C -5.484375 -2.796875 -5.578125 -3.1875 -5.578125 -3.59375 C -5.578125 -4.289062 -5.316406 -4.882812 -4.796875 -5.375 C -4.273438 -5.875 -3.609375 -6.125 -2.796875 -6.125 C -2.253906 -6.125 -1.75 -6.003906 -1.28125 -5.765625 C -0.820312 -5.535156 -0.46875 -5.21875 -0.21875 -4.8125 C 0.0195312 -4.40625 0.140625 -3.945312 0.140625 -3.4375 C 0.140625 -2.550781 -0.179688 -1.832031 -0.828125 -1.28125 C -1.472656 -0.726562 -2.535156 -0.453125 -4.015625 -0.453125 C -5.679688 -0.453125 -6.890625 -0.757812 -7.640625 -1.375 C -8.296875 -1.90625 -8.625 -2.625 -8.625 -3.53125 C -8.625 -4.207031 -8.429688 -4.757812 -8.046875 -5.1875 C -7.671875 -5.625 -7.148438 -5.882812 -6.484375 -5.96875 Z M -2.78125 -1.671875 C -2.414062 -1.671875 -2.066406 -1.742188 -1.734375 -1.890625 C -1.410156 -2.046875 -1.160156 -2.257812 -0.984375 -2.53125 C -0.804688 -2.8125 -0.71875 -3.109375 -0.71875 -3.421875 C -0.71875 -3.859375 -0.894531 -4.238281 -1.25 -4.5625 C -1.613281 -4.882812 -2.101562 -5.046875 -2.71875 -5.046875 C -3.3125 -5.046875 -3.78125 -4.882812 -4.125 -4.5625 C -4.46875 -4.25 -4.640625 -3.851562 -4.640625 -3.375 C -4.640625 -2.894531 -4.46875 -2.488281 -4.125 -2.15625 C -3.78125 -1.832031 -3.332031 -1.671875 -2.78125 -1.671875 Z M -2.78125 -1.671875 \"/>\n",
       "</symbol>\n",
       "<symbol overflow=\"visible\" id=\"glyph2-13\">\n",
       "<path style=\"stroke:none;\" d=\"M -4.65625 -2.125 C -4.820312 -1.6875 -5.050781 -1.359375 -5.34375 -1.140625 C -5.644531 -0.929688 -6 -0.828125 -6.40625 -0.828125 C -7.03125 -0.828125 -7.554688 -1.050781 -7.984375 -1.5 C -8.410156 -1.957031 -8.625 -2.554688 -8.625 -3.296875 C -8.625 -4.046875 -8.40625 -4.648438 -7.96875 -5.109375 C -7.53125 -5.566406 -7 -5.796875 -6.375 -5.796875 C -5.976562 -5.796875 -5.632812 -5.691406 -5.34375 -5.484375 C -5.050781 -5.273438 -4.820312 -4.957031 -4.65625 -4.53125 C -4.488281 -5.0625 -4.210938 -5.460938 -3.828125 -5.734375 C -3.441406 -6.003906 -2.984375 -6.140625 -2.453125 -6.140625 C -1.722656 -6.140625 -1.109375 -5.878906 -0.609375 -5.359375 C -0.109375 -4.847656 0.140625 -4.164062 0.140625 -3.3125 C 0.140625 -2.46875 -0.109375 -1.785156 -0.609375 -1.265625 C -1.109375 -0.742188 -1.734375 -0.484375 -2.484375 -0.484375 C -3.046875 -0.484375 -3.515625 -0.625 -3.890625 -0.90625 C -4.265625 -1.195312 -4.519531 -1.601562 -4.65625 -2.125 Z M -6.453125 -1.90625 C -6.046875 -1.90625 -5.710938 -2.035156 -5.453125 -2.296875 C -5.191406 -2.566406 -5.0625 -2.910156 -5.0625 -3.328125 C -5.0625 -3.734375 -5.1875 -4.066406 -5.4375 -4.328125 C -5.695312 -4.585938 -6.015625 -4.71875 -6.390625 -4.71875 C -6.773438 -4.71875 -7.097656 -4.582031 -7.359375 -4.3125 C -7.628906 -4.039062 -7.765625 -3.707031 -7.765625 -3.3125 C -7.765625 -2.90625 -7.632812 -2.566406 -7.375 -2.296875 C -7.113281 -2.035156 -6.804688 -1.90625 -6.453125 -1.90625 Z M -2.484375 -1.578125 C -2.179688 -1.578125 -1.890625 -1.644531 -1.609375 -1.78125 C -1.328125 -1.925781 -1.109375 -2.140625 -0.953125 -2.421875 C -0.796875 -2.703125 -0.71875 -3.003906 -0.71875 -3.328125 C -0.71875 -3.828125 -0.878906 -4.238281 -1.203125 -4.5625 C -1.523438 -4.894531 -1.9375 -5.0625 -2.4375 -5.0625 C -2.945312 -5.0625 -3.367188 -4.894531 -3.703125 -4.5625 C -4.035156 -4.226562 -4.203125 -3.804688 -4.203125 -3.296875 C -4.203125 -2.796875 -4.035156 -2.382812 -3.703125 -2.0625 C -3.378906 -1.738281 -2.972656 -1.578125 -2.484375 -1.578125 Z M -2.484375 -1.578125 \"/>\n",
       "</symbol>\n",
       "</g>\n",
       "</defs>\n",
       "<g id=\"surface612\">\n",
       "<rect x=\"0\" y=\"0\" width=\"504\" height=\"504\" style=\"fill:rgb(100%,100%,100%);fill-opacity:1;stroke:none;\"/>\n",
       "<g style=\"fill:rgb(0%,0%,0%);fill-opacity:1;\">\n",
       "  <use xlink:href=\"#glyph0-1\" x=\"187.398438\" y=\"34.054688\"/>\n",
       "  <use xlink:href=\"#glyph0-2\" x=\"197.508789\" y=\"34.054688\"/>\n",
       "  <use xlink:href=\"#glyph0-3\" x=\"201.398438\" y=\"34.054688\"/>\n",
       "  <use xlink:href=\"#glyph0-4\" x=\"209.18457\" y=\"34.054688\"/>\n",
       "  <use xlink:href=\"#glyph0-5\" x=\"213.84668\" y=\"34.054688\"/>\n",
       "  <use xlink:href=\"#glyph0-6\" x=\"222.398438\" y=\"34.054688\"/>\n",
       "  <use xlink:href=\"#glyph0-7\" x=\"230.950195\" y=\"34.054688\"/>\n",
       "  <use xlink:href=\"#glyph0-8\" x=\"236.398438\" y=\"34.054688\"/>\n",
       "  <use xlink:href=\"#glyph0-9\" x=\"244.18457\" y=\"34.054688\"/>\n",
       "  <use xlink:href=\"#glyph0-10\" x=\"256.632812\" y=\"34.054688\"/>\n",
       "  <use xlink:href=\"#glyph0-5\" x=\"260.522461\" y=\"34.054688\"/>\n",
       "  <use xlink:href=\"#glyph0-11\" x=\"269.074219\" y=\"34.054688\"/>\n",
       "  <use xlink:href=\"#glyph0-10\" x=\"273.736328\" y=\"34.054688\"/>\n",
       "  <use xlink:href=\"#glyph0-12\" x=\"277.625977\" y=\"34.054688\"/>\n",
       "  <use xlink:href=\"#glyph0-7\" x=\"286.177734\" y=\"34.054688\"/>\n",
       "  <use xlink:href=\"#glyph0-13\" x=\"291.625977\" y=\"34.054688\"/>\n",
       "  <use xlink:href=\"#glyph0-14\" x=\"299.412109\" y=\"34.054688\"/>\n",
       "  <use xlink:href=\"#glyph0-3\" x=\"307.963867\" y=\"34.054688\"/>\n",
       "  <use xlink:href=\"#glyph0-15\" x=\"315.75\" y=\"34.054688\"/>\n",
       "  <use xlink:href=\"#glyph0-16\" x=\"323.536133\" y=\"34.054688\"/>\n",
       "  <use xlink:href=\"#glyph0-4\" x=\"332.087891\" y=\"34.054688\"/>\n",
       "  <use xlink:href=\"#glyph0-17\" x=\"336.75\" y=\"34.054688\"/>\n",
       "</g>\n",
       "<g style=\"fill:rgb(0%,0%,0%);fill-opacity:1;\">\n",
       "  <use xlink:href=\"#glyph1-1\" x=\"239.898438\" y=\"485.144531\"/>\n",
       "  <use xlink:href=\"#glyph1-2\" x=\"246.572266\" y=\"485.144531\"/>\n",
       "  <use xlink:href=\"#glyph1-3\" x=\"250.568359\" y=\"485.144531\"/>\n",
       "  <use xlink:href=\"#glyph1-4\" x=\"257.242188\" y=\"485.144531\"/>\n",
       "  <use xlink:href=\"#glyph1-5\" x=\"263.916016\" y=\"485.144531\"/>\n",
       "  <use xlink:href=\"#glyph1-6\" x=\"269.916016\" y=\"485.144531\"/>\n",
       "  <use xlink:href=\"#glyph1-7\" x=\"276.589844\" y=\"485.144531\"/>\n",
       "  <use xlink:href=\"#glyph1-8\" x=\"283.263672\" y=\"485.144531\"/>\n",
       "  <use xlink:href=\"#glyph1-9\" x=\"286.597656\" y=\"485.144531\"/>\n",
       "</g>\n",
       "<g style=\"fill:rgb(0%,0%,0%);fill-opacity:1;\">\n",
       "  <use xlink:href=\"#glyph2-1\" x=\"12.824219\" y=\"273.300781\"/>\n",
       "  <use xlink:href=\"#glyph2-2\" x=\"12.824219\" y=\"265.970703\"/>\n",
       "  <use xlink:href=\"#glyph2-3\" x=\"12.824219\" y=\"261.974609\"/>\n",
       "  <use xlink:href=\"#glyph2-4\" x=\"12.824219\" y=\"255.300781\"/>\n",
       "  <use xlink:href=\"#glyph2-5\" x=\"12.824219\" y=\"248.626953\"/>\n",
       "  <use xlink:href=\"#glyph2-3\" x=\"12.824219\" y=\"241.953125\"/>\n",
       "  <use xlink:href=\"#glyph2-6\" x=\"12.824219\" y=\"235.279297\"/>\n",
       "  <use xlink:href=\"#glyph2-7\" x=\"12.824219\" y=\"228.605469\"/>\n",
       "  <use xlink:href=\"#glyph2-8\" x=\"12.824219\" y=\"222.605469\"/>\n",
       "</g>\n",
       "<path style=\"fill:none;stroke-width:0.75;stroke-linecap:round;stroke-linejoin:round;stroke:rgb(0%,0%,0%);stroke-opacity:1;stroke-miterlimit:10;\" d=\"M 114.820312 430.558594 L 438.191406 430.558594 \"/>\n",
       "<path style=\"fill:none;stroke-width:0.75;stroke-linecap:round;stroke-linejoin:round;stroke:rgb(0%,0%,0%);stroke-opacity:1;stroke-miterlimit:10;\" d=\"M 114.820312 430.558594 L 114.820312 437.761719 \"/>\n",
       "<path style=\"fill:none;stroke-width:0.75;stroke-linecap:round;stroke-linejoin:round;stroke:rgb(0%,0%,0%);stroke-opacity:1;stroke-miterlimit:10;\" d=\"M 195.664062 430.558594 L 195.664062 437.761719 \"/>\n",
       "<path style=\"fill:none;stroke-width:0.75;stroke-linecap:round;stroke-linejoin:round;stroke:rgb(0%,0%,0%);stroke-opacity:1;stroke-miterlimit:10;\" d=\"M 276.503906 430.558594 L 276.503906 437.761719 \"/>\n",
       "<path style=\"fill:none;stroke-width:0.75;stroke-linecap:round;stroke-linejoin:round;stroke:rgb(0%,0%,0%);stroke-opacity:1;stroke-miterlimit:10;\" d=\"M 357.347656 430.558594 L 357.347656 437.761719 \"/>\n",
       "<path style=\"fill:none;stroke-width:0.75;stroke-linecap:round;stroke-linejoin:round;stroke:rgb(0%,0%,0%);stroke-opacity:1;stroke-miterlimit:10;\" d=\"M 438.191406 430.558594 L 438.191406 437.761719 \"/>\n",
       "<g style=\"fill:rgb(0%,0%,0%);fill-opacity:1;\">\n",
       "  <use xlink:href=\"#glyph1-10\" x=\"106.320312\" y=\"456.34375\"/>\n",
       "  <use xlink:href=\"#glyph1-11\" x=\"112.994141\" y=\"456.34375\"/>\n",
       "  <use xlink:href=\"#glyph1-12\" x=\"116.328125\" y=\"456.34375\"/>\n",
       "</g>\n",
       "<g style=\"fill:rgb(0%,0%,0%);fill-opacity:1;\">\n",
       "  <use xlink:href=\"#glyph1-13\" x=\"187.164062\" y=\"456.34375\"/>\n",
       "  <use xlink:href=\"#glyph1-11\" x=\"193.837891\" y=\"456.34375\"/>\n",
       "  <use xlink:href=\"#glyph1-10\" x=\"197.171875\" y=\"456.34375\"/>\n",
       "</g>\n",
       "<g style=\"fill:rgb(0%,0%,0%);fill-opacity:1;\">\n",
       "  <use xlink:href=\"#glyph1-13\" x=\"268.003906\" y=\"456.34375\"/>\n",
       "  <use xlink:href=\"#glyph1-11\" x=\"274.677734\" y=\"456.34375\"/>\n",
       "  <use xlink:href=\"#glyph1-14\" x=\"278.011719\" y=\"456.34375\"/>\n",
       "</g>\n",
       "<g style=\"fill:rgb(0%,0%,0%);fill-opacity:1;\">\n",
       "  <use xlink:href=\"#glyph1-13\" x=\"348.847656\" y=\"456.34375\"/>\n",
       "  <use xlink:href=\"#glyph1-11\" x=\"355.521484\" y=\"456.34375\"/>\n",
       "  <use xlink:href=\"#glyph1-15\" x=\"358.855469\" y=\"456.34375\"/>\n",
       "</g>\n",
       "<g style=\"fill:rgb(0%,0%,0%);fill-opacity:1;\">\n",
       "  <use xlink:href=\"#glyph1-13\" x=\"429.691406\" y=\"456.34375\"/>\n",
       "  <use xlink:href=\"#glyph1-11\" x=\"436.365234\" y=\"456.34375\"/>\n",
       "  <use xlink:href=\"#glyph1-16\" x=\"439.699219\" y=\"456.34375\"/>\n",
       "</g>\n",
       "<path style=\"fill:none;stroke-width:0.75;stroke-linecap:round;stroke-linejoin:round;stroke:rgb(0%,0%,0%);stroke-opacity:1;stroke-miterlimit:10;\" d=\"M 59.039062 416.800781 L 59.039062 121.457031 \"/>\n",
       "<path style=\"fill:none;stroke-width:0.75;stroke-linecap:round;stroke-linejoin:round;stroke:rgb(0%,0%,0%);stroke-opacity:1;stroke-miterlimit:10;\" d=\"M 59.039062 416.800781 L 51.839844 416.800781 \"/>\n",
       "<path style=\"fill:none;stroke-width:0.75;stroke-linecap:round;stroke-linejoin:round;stroke:rgb(0%,0%,0%);stroke-opacity:1;stroke-miterlimit:10;\" d=\"M 59.039062 342.964844 L 51.839844 342.964844 \"/>\n",
       "<path style=\"fill:none;stroke-width:0.75;stroke-linecap:round;stroke-linejoin:round;stroke:rgb(0%,0%,0%);stroke-opacity:1;stroke-miterlimit:10;\" d=\"M 59.039062 269.128906 L 51.839844 269.128906 \"/>\n",
       "<path style=\"fill:none;stroke-width:0.75;stroke-linecap:round;stroke-linejoin:round;stroke:rgb(0%,0%,0%);stroke-opacity:1;stroke-miterlimit:10;\" d=\"M 59.039062 195.292969 L 51.839844 195.292969 \"/>\n",
       "<path style=\"fill:none;stroke-width:0.75;stroke-linecap:round;stroke-linejoin:round;stroke:rgb(0%,0%,0%);stroke-opacity:1;stroke-miterlimit:10;\" d=\"M 59.039062 121.457031 L 51.839844 121.457031 \"/>\n",
       "<g style=\"fill:rgb(0%,0%,0%);fill-opacity:1;\">\n",
       "  <use xlink:href=\"#glyph2-9\" x=\"41.625\" y=\"420.300781\"/>\n",
       "</g>\n",
       "<g style=\"fill:rgb(0%,0%,0%);fill-opacity:1;\">\n",
       "  <use xlink:href=\"#glyph2-10\" x=\"41.625\" y=\"356.464844\"/>\n",
       "  <use xlink:href=\"#glyph2-9\" x=\"41.625\" y=\"349.791016\"/>\n",
       "  <use xlink:href=\"#glyph2-9\" x=\"41.625\" y=\"343.117188\"/>\n",
       "  <use xlink:href=\"#glyph2-9\" x=\"41.625\" y=\"336.443359\"/>\n",
       "</g>\n",
       "<g style=\"fill:rgb(0%,0%,0%);fill-opacity:1;\">\n",
       "  <use xlink:href=\"#glyph2-11\" x=\"41.625\" y=\"282.628906\"/>\n",
       "  <use xlink:href=\"#glyph2-9\" x=\"41.625\" y=\"275.955078\"/>\n",
       "  <use xlink:href=\"#glyph2-9\" x=\"41.625\" y=\"269.28125\"/>\n",
       "  <use xlink:href=\"#glyph2-9\" x=\"41.625\" y=\"262.607422\"/>\n",
       "</g>\n",
       "<g style=\"fill:rgb(0%,0%,0%);fill-opacity:1;\">\n",
       "  <use xlink:href=\"#glyph2-12\" x=\"41.625\" y=\"208.792969\"/>\n",
       "  <use xlink:href=\"#glyph2-9\" x=\"41.625\" y=\"202.119141\"/>\n",
       "  <use xlink:href=\"#glyph2-9\" x=\"41.625\" y=\"195.445312\"/>\n",
       "  <use xlink:href=\"#glyph2-9\" x=\"41.625\" y=\"188.771484\"/>\n",
       "</g>\n",
       "<g style=\"fill:rgb(0%,0%,0%);fill-opacity:1;\">\n",
       "  <use xlink:href=\"#glyph2-13\" x=\"41.625\" y=\"134.957031\"/>\n",
       "  <use xlink:href=\"#glyph2-9\" x=\"41.625\" y=\"128.283203\"/>\n",
       "  <use xlink:href=\"#glyph2-9\" x=\"41.625\" y=\"121.609375\"/>\n",
       "  <use xlink:href=\"#glyph2-9\" x=\"41.625\" y=\"114.935547\"/>\n",
       "</g>\n",
       "<path style=\"fill:none;stroke-width:0.75;stroke-linecap:round;stroke-linejoin:round;stroke:rgb(0%,0%,0%);stroke-opacity:1;stroke-miterlimit:10;\" d=\"M 74.398438 416.800781 L 94.609375 416.800781 L 94.609375 388.964844 L 74.398438 388.964844 Z M 74.398438 416.800781 \"/>\n",
       "<path style=\"fill:none;stroke-width:0.75;stroke-linecap:round;stroke-linejoin:round;stroke:rgb(0%,0%,0%);stroke-opacity:1;stroke-miterlimit:10;\" d=\"M 94.609375 416.800781 L 114.820312 416.800781 L 114.820312 388.59375 L 94.609375 388.59375 Z M 94.609375 416.800781 \"/>\n",
       "<path style=\"fill:none;stroke-width:0.75;stroke-linecap:round;stroke-linejoin:round;stroke:rgb(0%,0%,0%);stroke-opacity:1;stroke-miterlimit:10;\" d=\"M 114.820312 416.800781 L 135.03125 416.800781 L 135.03125 410.339844 L 114.820312 410.339844 Z M 114.820312 416.800781 \"/>\n",
       "<path style=\"fill:none;stroke-width:0.75;stroke-linecap:round;stroke-linejoin:round;stroke:rgb(0%,0%,0%);stroke-opacity:1;stroke-miterlimit:10;\" d=\"M 135.03125 416.800781 L 155.242188 416.800781 L 155.242188 364.597656 L 135.03125 364.597656 Z M 135.03125 416.800781 \"/>\n",
       "<path style=\"fill:none;stroke-width:0.75;stroke-linecap:round;stroke-linejoin:round;stroke:rgb(0%,0%,0%);stroke-opacity:1;stroke-miterlimit:10;\" d=\"M 155.242188 416.800781 L 175.453125 416.800781 L 175.453125 414.917969 L 155.242188 414.917969 Z M 155.242188 416.800781 \"/>\n",
       "<path style=\"fill:none;stroke-width:0.75;stroke-linecap:round;stroke-linejoin:round;stroke:rgb(0%,0%,0%);stroke-opacity:1;stroke-miterlimit:10;\" d=\"M 175.453125 416.800781 L 195.664062 416.800781 L 195.664062 397.863281 L 175.453125 397.863281 Z M 175.453125 416.800781 \"/>\n",
       "<path style=\"fill:none;stroke-width:0.75;stroke-linecap:round;stroke-linejoin:round;stroke:rgb(0%,0%,0%);stroke-opacity:1;stroke-miterlimit:10;\" d=\"M 195.664062 416.800781 L 215.875 416.800781 L 215.875 397.75 L 195.664062 397.75 Z M 195.664062 416.800781 \"/>\n",
       "<path style=\"fill:none;stroke-width:0.75;stroke-linecap:round;stroke-linejoin:round;stroke:rgb(0%,0%,0%);stroke-opacity:1;stroke-miterlimit:10;\" d=\"M 215.875 416.800781 L 236.085938 416.800781 L 236.085938 391.917969 L 215.875 391.917969 Z M 215.875 416.800781 \"/>\n",
       "<path style=\"fill:none;stroke-width:0.75;stroke-linecap:round;stroke-linejoin:round;stroke:rgb(0%,0%,0%);stroke-opacity:1;stroke-miterlimit:10;\" d=\"M 236.085938 416.800781 L 256.296875 416.800781 L 256.296875 393.910156 L 236.085938 393.910156 Z M 236.085938 416.800781 \"/>\n",
       "<path style=\"fill:none;stroke-width:0.75;stroke-linecap:round;stroke-linejoin:round;stroke:rgb(0%,0%,0%);stroke-opacity:1;stroke-miterlimit:10;\" d=\"M 256.292969 416.800781 L 276.503906 416.800781 L 276.503906 133.417969 L 256.292969 133.417969 Z M 256.292969 416.800781 \"/>\n",
       "<path style=\"fill:none;stroke-width:0.75;stroke-linecap:round;stroke-linejoin:round;stroke:rgb(0%,0%,0%);stroke-opacity:1;stroke-miterlimit:10;\" d=\"M 276.503906 416.800781 L 296.714844 416.800781 L 296.714844 72.800781 L 276.503906 72.800781 Z M 276.503906 416.800781 \"/>\n",
       "<path style=\"fill:none;stroke-width:0.75;stroke-linecap:round;stroke-linejoin:round;stroke:rgb(0%,0%,0%);stroke-opacity:1;stroke-miterlimit:10;\" d=\"M 296.714844 416.800781 L 316.925781 416.800781 L 316.925781 258.941406 L 296.714844 258.941406 Z M 296.714844 416.800781 \"/>\n",
       "<path style=\"fill:none;stroke-width:0.75;stroke-linecap:round;stroke-linejoin:round;stroke:rgb(0%,0%,0%);stroke-opacity:1;stroke-miterlimit:10;\" d=\"M 316.925781 416.800781 L 337.136719 416.800781 L 337.136719 303.871094 L 316.925781 303.871094 Z M 316.925781 416.800781 \"/>\n",
       "<path style=\"fill:none;stroke-width:0.75;stroke-linecap:round;stroke-linejoin:round;stroke:rgb(0%,0%,0%);stroke-opacity:1;stroke-miterlimit:10;\" d=\"M 337.136719 416.800781 L 357.347656 416.800781 L 357.347656 409.046875 L 337.136719 409.046875 Z M 337.136719 416.800781 \"/>\n",
       "<path style=\"fill:none;stroke-width:0.75;stroke-linecap:round;stroke-linejoin:round;stroke:rgb(0%,0%,0%);stroke-opacity:1;stroke-miterlimit:10;\" d=\"M 357.347656 416.800781 L 377.558594 416.800781 L 377.558594 405.761719 L 357.347656 405.761719 Z M 357.347656 416.800781 \"/>\n",
       "<path style=\"fill:none;stroke-width:0.75;stroke-linecap:round;stroke-linejoin:round;stroke:rgb(0%,0%,0%);stroke-opacity:1;stroke-miterlimit:10;\" d=\"M 377.558594 416.800781 L 397.769531 416.800781 L 397.769531 416.652344 L 377.558594 416.652344 Z M 377.558594 416.800781 \"/>\n",
       "<path style=\"fill:none;stroke-width:0.75;stroke-linecap:round;stroke-linejoin:round;stroke:rgb(0%,0%,0%);stroke-opacity:1;stroke-miterlimit:10;\" d=\"M 397.769531 416.800781 L 417.980469 416.800781 L 417.980469 408.457031 L 397.769531 408.457031 Z M 397.769531 416.800781 \"/>\n",
       "<path style=\"fill:none;stroke-width:0.75;stroke-linecap:round;stroke-linejoin:round;stroke:rgb(0%,0%,0%);stroke-opacity:1;stroke-miterlimit:10;\" d=\"M 417.980469 416.800781 L 438.191406 416.800781 L 438.191406 387.523438 L 417.980469 387.523438 Z M 417.980469 416.800781 \"/>\n",
       "<path style=\"fill:none;stroke-width:0.75;stroke-linecap:round;stroke-linejoin:round;stroke:rgb(0%,0%,0%);stroke-opacity:1;stroke-miterlimit:10;\" d=\"M 438.191406 416.800781 L 458.402344 416.800781 L 458.402344 376.414062 L 438.191406 376.414062 Z M 438.191406 416.800781 \"/>\n",
       "</g>\n",
       "</svg>\n"
      ],
      "text/plain": [
       "Plot with title “Histogram of preds_qty”"
      ]
     },
     "metadata": {
      "image/svg+xml": {
       "isolated": true
      }
     },
     "output_type": "display_data"
    }
   ],
   "source": [
    "hist(preds_qty)"
   ]
  },
  {
   "cell_type": "code",
   "execution_count": 178,
   "metadata": {
    "collapsed": true
   },
   "outputs": [],
   "source": [
    "?predict.glm"
   ]
  }
 ],
 "metadata": {
  "kernelspec": {
   "display_name": "R",
   "language": "R",
   "name": "ir"
  },
  "language_info": {
   "codemirror_mode": "r",
   "file_extension": ".r",
   "mimetype": "text/x-r-source",
   "name": "R",
   "pygments_lexer": "r",
   "version": "3.3.3"
  }
 },
 "nbformat": 4,
 "nbformat_minor": 2
}
