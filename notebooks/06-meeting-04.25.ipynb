{
 "cells": [
  {
   "cell_type": "code",
   "execution_count": 2,
   "metadata": {
    "collapsed": true
   },
   "outputs": [],
   "source": [
    "library(xgboost)"
   ]
  },
  {
   "cell_type": "code",
   "execution_count": 39,
   "metadata": {
    "collapsed": true
   },
   "outputs": [],
   "source": [
    "source(\"../src/data/read_dmc.R\")\n",
    "\n",
    "orig_train = read_dmc(\"../data/train.csv\")\n",
    "orig_items = read_dmc(\"../data/items.csv\")\n",
    "orig_class = read_dmc(\"../data/class.csv\")"
   ]
  },
  {
   "cell_type": "code",
   "execution_count": 12,
   "metadata": {},
   "outputs": [],
   "source": [
    "df = merge(train, items, by = \"pid\")\n",
    "\n",
    "df = df[order(df$lineID), ]"
   ]
  },
  {
   "cell_type": "code",
   "execution_count": 16,
   "metadata": {},
   "outputs": [],
   "source": [
    "label = df$revenue\n",
    "train_mat = df[!(names(df) %in% c(\"click\", \"basket\", \"order\", \"revenue\"))]"
   ]
  },
  {
   "cell_type": "code",
   "execution_count": 17,
   "metadata": {},
   "outputs": [
    {
     "data": {
      "text/html": [
       "<table>\n",
       "<thead><tr><th></th><th scope=col>pid</th><th scope=col>lineID</th><th scope=col>day</th><th scope=col>adFlag</th><th scope=col>availability</th><th scope=col>competitorPrice</th><th scope=col>price</th><th scope=col>manufacturer</th><th scope=col>group</th><th scope=col>content</th><th scope=col>unit</th><th scope=col>pharmForm</th><th scope=col>genericProduct</th><th scope=col>salesIndex</th><th scope=col>category</th><th scope=col>campaignIndex</th><th scope=col>rrp</th></tr></thead>\n",
       "<tbody>\n",
       "\t<tr><th scope=row>953577</th><td>6570 </td><td>1    </td><td>1    </td><td>0    </td><td>2    </td><td>14.6 </td><td>16.89</td><td>255  </td><td>2FOI </td><td>50   </td><td>ML   </td><td>TRO  </td><td>0    </td><td>40   </td><td>193  </td><td>NA   </td><td>18.25</td></tr>\n",
       "\t<tr><th scope=row>1916348</th><td>14922   </td><td>2       </td><td>1       </td><td>1       </td><td>1       </td><td>8.57    </td><td>8.75    </td><td>18      </td><td>1COJ0FIK</td><td>50      </td><td>ST      </td><td>TAB     </td><td>1       </td><td>40      </td><td>66      </td><td>C       </td><td>18.81   </td></tr>\n",
       "\t<tr><th scope=row>2109080</th><td>16382</td><td>3    </td><td>1    </td><td>0    </td><td>1    </td><td>14.77</td><td>16.06</td><td>41   </td><td>22OI7</td><td>2X50 </td><td>ML   </td><td>STI  </td><td>0    </td><td>53   </td><td>40   </td><td>NA   </td><td>18.48</td></tr>\n",
       "\t<tr><th scope=row>129870</th><td>1145    </td><td>4       </td><td>1       </td><td>1       </td><td>1       </td><td>6.59    </td><td>6.55    </td><td>52      </td><td>18OZ00IS</td><td>60      </td><td>G       </td><td>GEL     </td><td>0       </td><td>40      </td><td>25      </td><td>NA      </td><td>9.31    </td></tr>\n",
       "\t<tr><th scope=row>528907</th><td>3394 </td><td>5    </td><td>1    </td><td>0    </td><td>1    </td><td>4.39 </td><td>4.14 </td><td>90   </td><td>20OI0</td><td>25X2 </td><td>ST   </td><td>KOM  </td><td>0    </td><td>53   </td><td>14   </td><td>NA   </td><td>8.13 </td></tr>\n",
       "\t<tr><th scope=row>560194</th><td>3661  </td><td>6     </td><td>1     </td><td>0     </td><td>1     </td><td>13.66 </td><td>10.03 </td><td>90    </td><td>13OX06</td><td>1000  </td><td>ML    </td><td>LOE   </td><td>0     </td><td>52    </td><td>127   </td><td>NA    </td><td>21.6  </td></tr>\n",
       "</tbody>\n",
       "</table>\n"
      ],
      "text/latex": [
       "\\begin{tabular}{r|lllllllllllllllll}\n",
       "  & pid & lineID & day & adFlag & availability & competitorPrice & price & manufacturer & group & content & unit & pharmForm & genericProduct & salesIndex & category & campaignIndex & rrp\\\\\n",
       "\\hline\n",
       "\t953577 & 6570  & 1     & 1     & 0     & 2     & 14.6  & 16.89 & 255   & 2FOI  & 50    & ML    & TRO   & 0     & 40    & 193   & NA    & 18.25\\\\\n",
       "\t1916348 & 14922    & 2        & 1        & 1        & 1        & 8.57     & 8.75     & 18       & 1COJ0FIK & 50       & ST       & TAB      & 1        & 40       & 66       & C        & 18.81   \\\\\n",
       "\t2109080 & 16382 & 3     & 1     & 0     & 1     & 14.77 & 16.06 & 41    & 22OI7 & 2X50  & ML    & STI   & 0     & 53    & 40    & NA    & 18.48\\\\\n",
       "\t129870 & 1145     & 4        & 1        & 1        & 1        & 6.59     & 6.55     & 52       & 18OZ00IS & 60       & G        & GEL      & 0        & 40       & 25       & NA       & 9.31    \\\\\n",
       "\t528907 & 3394  & 5     & 1     & 0     & 1     & 4.39  & 4.14  & 90    & 20OI0 & 25X2  & ST    & KOM   & 0     & 53    & 14    & NA    & 8.13 \\\\\n",
       "\t560194 & 3661   & 6      & 1      & 0      & 1      & 13.66  & 10.03  & 90     & 13OX06 & 1000   & ML     & LOE    & 0      & 52     & 127    & NA     & 21.6  \\\\\n",
       "\\end{tabular}\n"
      ],
      "text/plain": [
       "          pid lineID day adFlag availability competitorPrice price manufacturer\n",
       "953577   6570      1   1      0            2           14.60 16.89          255\n",
       "1916348 14922      2   1      1            1            8.57  8.75           18\n",
       "2109080 16382      3   1      0            1           14.77 16.06           41\n",
       "129870   1145      4   1      1            1            6.59  6.55           52\n",
       "528907   3394      5   1      0            1            4.39  4.14           90\n",
       "560194   3661      6   1      0            1           13.66 10.03           90\n",
       "           group content unit pharmForm genericProduct salesIndex category\n",
       "953577      2FOI      50   ML       TRO              0         40      193\n",
       "1916348 1COJ0FIK      50   ST       TAB              1         40       66\n",
       "2109080    22OI7    2X50   ML       STI              0         53       40\n",
       "129870  18OZ00IS      60    G       GEL              0         40       25\n",
       "528907     20OI0    25X2   ST       KOM              0         53       14\n",
       "560194    13OX06    1000   ML       LOE              0         52      127\n",
       "        campaignIndex   rrp\n",
       "953577           <NA> 18.25\n",
       "1916348             C 18.81\n",
       "2109080          <NA> 18.48\n",
       "129870           <NA>  9.31\n",
       "528907           <NA>  8.13\n",
       "560194           <NA> 21.60"
      ]
     },
     "metadata": {},
     "output_type": "display_data"
    }
   ],
   "source": [
    "head(train_mat)"
   ]
  },
  {
   "cell_type": "markdown",
   "metadata": {},
   "source": [
    "## Meeting 4/25\n",
    "\n",
    "Do competitor prices vary within PIDs?"
   ]
  },
  {
   "cell_type": "code",
   "execution_count": 23,
   "metadata": {},
   "outputs": [
    {
     "data": {
      "text/plain": [
       "\n",
       " 2655  2491 16641 16144  7403  3853  1426  1247  1037  1567 \n",
       "53785 14666 12369 11134 10002  8683  8396  7949  7933  7761 "
      ]
     },
     "metadata": {},
     "output_type": "display_data"
    }
   ],
   "source": [
    "sort(table(train$pid), decreasing = T)[1:10]"
   ]
  },
  {
   "cell_type": "code",
   "execution_count": 35,
   "metadata": {},
   "outputs": [],
   "source": [
    "z = aggregate(train$price, list(train$day, train$pid), var)"
   ]
  },
  {
   "cell_type": "code",
   "execution_count": 38,
   "metadata": {
    "scrolled": true
   },
   "outputs": [
    {
     "data": {
      "text/html": [
       "2446.42790551939"
      ],
      "text/latex": [
       "2446.42790551939"
      ],
      "text/markdown": [
       "2446.42790551939"
      ],
      "text/plain": [
       "[1] 2446.428"
      ]
     },
     "metadata": {},
     "output_type": "display_data"
    }
   ],
   "source": [
    "sum(z$x[!is.na(z$x)])"
   ]
  },
  {
   "cell_type": "markdown",
   "metadata": {},
   "source": [
    "The above shows there is some variation within days."
   ]
  },
  {
   "cell_type": "code",
   "execution_count": 61,
   "metadata": {},
   "outputs": [],
   "source": [
    "train = df[df$day <= 62, ]\n",
    "test = df[df$day > 62, ]"
   ]
  },
  {
   "cell_type": "code",
   "execution_count": 62,
   "metadata": {},
   "outputs": [],
   "source": [
    "label_cols = c(\"click\", \"basket\", \"order\", \"revenue\")\n",
    "\n",
    "train_labels = train[label_cols]\n",
    "train = train[!(names(train) %in% label_cols)]\n",
    "\n",
    "test_labels = test[label_cols]\n",
    "test = test[!(names(test) %in% label_cols)]"
   ]
  },
  {
   "cell_type": "code",
   "execution_count": 63,
   "metadata": {},
   "outputs": [],
   "source": [
    "delete_cols = c(\"pid\", \"lineID\")\n",
    "train = train[!(names(train) %in% delete_cols)]\n",
    "test = test[!(names(test) %in% delete_cols)]"
   ]
  },
  {
   "cell_type": "code",
   "execution_count": 50,
   "metadata": {},
   "outputs": [
    {
     "data": {
      "text/html": [
       "<table>\n",
       "<thead><tr><th></th><th scope=col>day</th><th scope=col>adFlag</th><th scope=col>availability</th><th scope=col>competitorPrice</th><th scope=col>price</th><th scope=col>manufacturer</th><th scope=col>group</th><th scope=col>content</th><th scope=col>unit</th><th scope=col>pharmForm</th><th scope=col>genericProduct</th><th scope=col>salesIndex</th><th scope=col>category</th><th scope=col>campaignIndex</th><th scope=col>rrp</th></tr></thead>\n",
       "<tbody>\n",
       "\t<tr><th scope=row>953577</th><td>1    </td><td>0    </td><td>2    </td><td>14.6 </td><td>16.89</td><td>255  </td><td>2FOI </td><td>50   </td><td>ML   </td><td>TRO  </td><td>0    </td><td>40   </td><td>193  </td><td>NA   </td><td>18.25</td></tr>\n",
       "\t<tr><th scope=row>1916348</th><td>1       </td><td>1       </td><td>1       </td><td>8.57    </td><td>8.75    </td><td>18      </td><td>1COJ0FIK</td><td>50      </td><td>ST      </td><td>TAB     </td><td>1       </td><td>40      </td><td>66      </td><td>C       </td><td>18.81   </td></tr>\n",
       "\t<tr><th scope=row>2109080</th><td>1    </td><td>0    </td><td>1    </td><td>14.77</td><td>16.06</td><td>41   </td><td>22OI7</td><td>2X50 </td><td>ML   </td><td>STI  </td><td>0    </td><td>53   </td><td>40   </td><td>NA   </td><td>18.48</td></tr>\n",
       "\t<tr><th scope=row>129870</th><td>1       </td><td>1       </td><td>1       </td><td>6.59    </td><td>6.55    </td><td>52      </td><td>18OZ00IS</td><td>60      </td><td>G       </td><td>GEL     </td><td>0       </td><td>40      </td><td>25      </td><td>NA      </td><td>9.31    </td></tr>\n",
       "\t<tr><th scope=row>528907</th><td>1    </td><td>0    </td><td>1    </td><td>4.39 </td><td>4.14 </td><td>90   </td><td>20OI0</td><td>25X2 </td><td>ST   </td><td>KOM  </td><td>0    </td><td>53   </td><td>14   </td><td>NA   </td><td>8.13 </td></tr>\n",
       "\t<tr><th scope=row>560194</th><td>1     </td><td>0     </td><td>1     </td><td>13.66 </td><td>10.03 </td><td>90    </td><td>13OX06</td><td>1000  </td><td>ML    </td><td>LOE   </td><td>0     </td><td>52    </td><td>127   </td><td>NA    </td><td>21.6  </td></tr>\n",
       "</tbody>\n",
       "</table>\n"
      ],
      "text/latex": [
       "\\begin{tabular}{r|lllllllllllllll}\n",
       "  & day & adFlag & availability & competitorPrice & price & manufacturer & group & content & unit & pharmForm & genericProduct & salesIndex & category & campaignIndex & rrp\\\\\n",
       "\\hline\n",
       "\t953577 & 1     & 0     & 2     & 14.6  & 16.89 & 255   & 2FOI  & 50    & ML    & TRO   & 0     & 40    & 193   & NA    & 18.25\\\\\n",
       "\t1916348 & 1        & 1        & 1        & 8.57     & 8.75     & 18       & 1COJ0FIK & 50       & ST       & TAB      & 1        & 40       & 66       & C        & 18.81   \\\\\n",
       "\t2109080 & 1     & 0     & 1     & 14.77 & 16.06 & 41    & 22OI7 & 2X50  & ML    & STI   & 0     & 53    & 40    & NA    & 18.48\\\\\n",
       "\t129870 & 1        & 1        & 1        & 6.59     & 6.55     & 52       & 18OZ00IS & 60       & G        & GEL      & 0        & 40       & 25       & NA       & 9.31    \\\\\n",
       "\t528907 & 1     & 0     & 1     & 4.39  & 4.14  & 90    & 20OI0 & 25X2  & ST    & KOM   & 0     & 53    & 14    & NA    & 8.13 \\\\\n",
       "\t560194 & 1      & 0      & 1      & 13.66  & 10.03  & 90     & 13OX06 & 1000   & ML     & LOE    & 0      & 52     & 127    & NA     & 21.6  \\\\\n",
       "\\end{tabular}\n"
      ],
      "text/plain": [
       "        day adFlag availability competitorPrice price manufacturer    group\n",
       "953577    1      0            2           14.60 16.89          255     2FOI\n",
       "1916348   1      1            1            8.57  8.75           18 1COJ0FIK\n",
       "2109080   1      0            1           14.77 16.06           41    22OI7\n",
       "129870    1      1            1            6.59  6.55           52 18OZ00IS\n",
       "528907    1      0            1            4.39  4.14           90    20OI0\n",
       "560194    1      0            1           13.66 10.03           90   13OX06\n",
       "        content unit pharmForm genericProduct salesIndex category campaignIndex\n",
       "953577       50   ML       TRO              0         40      193          <NA>\n",
       "1916348      50   ST       TAB              1         40       66             C\n",
       "2109080    2X50   ML       STI              0         53       40          <NA>\n",
       "129870       60    G       GEL              0         40       25          <NA>\n",
       "528907     25X2   ST       KOM              0         53       14          <NA>\n",
       "560194     1000   ML       LOE              0         52      127          <NA>\n",
       "          rrp\n",
       "953577  18.25\n",
       "1916348 18.81\n",
       "2109080 18.48\n",
       "129870   9.31\n",
       "528907   8.13\n",
       "560194  21.60"
      ]
     },
     "metadata": {},
     "output_type": "display_data"
    }
   ],
   "source": [
    "head(train)"
   ]
  },
  {
   "cell_type": "code",
   "execution_count": 64,
   "metadata": {},
   "outputs": [],
   "source": [
    "# group, content, unit, pharmForm, campaignIndex\n",
    "train = lapply(train, function(col) {\n",
    "   if (!inherits(col, \"character\"))\n",
    "       return (col)\n",
    "    \n",
    "    unclass(factor(col))\n",
    "})\n",
    "train = as.data.frame(train)"
   ]
  },
  {
   "cell_type": "code",
   "execution_count": 68,
   "metadata": {},
   "outputs": [],
   "source": [
    "train = as.matrix(train)"
   ]
  },
  {
   "cell_type": "code",
   "execution_count": 72,
   "metadata": {},
   "outputs": [
    {
     "ename": "ERROR",
     "evalue": "Error in xgb.DMatrix(data, label = label, missing = missing): [20:26:08] amalgamation/../dmlc-core/src/io/local_filesys.cc:66: LocalFileSystem.GetPathInfo  1 Error:No such file or directory\n",
     "output_type": "error",
     "traceback": [
      "Error in xgb.DMatrix(data, label = label, missing = missing): [20:26:08] amalgamation/../dmlc-core/src/io/local_filesys.cc:66: LocalFileSystem.GetPathInfo  1 Error:No such file or directory\nTraceback:\n",
      "1. xgboost(data = as.matrix(train), label = train_labels$order, \n .     max.depth = 2, eta = 1, nthread = 2, nround = 2, objective = \"binary:logistic\")",
      "2. xgb.get.DMatrix(data, label, missing, weight)",
      "3. xgb.DMatrix(data, label = label, missing = missing)"
     ]
    }
   ],
   "source": [
    "#model = xgboost(data = train, label = train_labels$order,\n",
    "#                max.depth = 2, eta = 1, nthread = 2, nround = 2, objective = \"binary:logistic\")\n",
    "model = xgboost(data = as.matrix(train), label = train_labels$order, max.depth = 2, eta = 1, nthread = 2,\n",
    "                nround = 2, objective = \"binary:logistic\")\n"
   ]
  }
 ],
 "metadata": {
  "kernelspec": {
   "display_name": "R",
   "language": "R",
   "name": "ir"
  },
  "language_info": {
   "codemirror_mode": "r",
   "file_extension": ".r",
   "mimetype": "text/x-r-source",
   "name": "R",
   "pygments_lexer": "r",
   "version": "3.3.3"
  }
 },
 "nbformat": 4,
 "nbformat_minor": 2
}
