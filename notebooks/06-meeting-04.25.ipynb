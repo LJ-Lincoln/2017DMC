{
 "cells": [
  {
   "cell_type": "code",
   "execution_count": 73,
   "metadata": {
    "collapsed": true
   },
   "outputs": [],
   "source": [
    "library(xgboost)"
   ]
  },
  {
   "cell_type": "code",
   "execution_count": 76,
   "metadata": {
    "collapsed": true
   },
   "outputs": [],
   "source": [
    "source(\"../src/data/read_dmc.R\")\n",
    "\n",
    "orig_train = read_dmc(\"../data/train.csv\")\n",
    "orig_items = read_dmc(\"../data/items.csv\")\n",
    "orig_class = read_dmc(\"../data/class.csv\")"
   ]
  },
  {
   "cell_type": "code",
   "execution_count": 117,
   "metadata": {},
   "outputs": [],
   "source": [
    "df = merge(orig_train, orig_items, by = \"pid\")\n",
    "\n",
    "df = df[order(df$lineID), ]\n",
    "df$quantity = df$revenue / df$price"
   ]
  },
  {
   "cell_type": "code",
   "execution_count": 118,
   "metadata": {},
   "outputs": [],
   "source": [
    "label = df$revenue\n",
    "train_mat = df[!(names(df) %in% c(\"click\", \"basket\", \"order\", \"revenue\"))]"
   ]
  },
  {
   "cell_type": "code",
   "execution_count": 17,
   "metadata": {},
   "outputs": [
    {
     "data": {
      "text/html": [
       "<table>\n",
       "<thead><tr><th></th><th scope=col>pid</th><th scope=col>lineID</th><th scope=col>day</th><th scope=col>adFlag</th><th scope=col>availability</th><th scope=col>competitorPrice</th><th scope=col>price</th><th scope=col>manufacturer</th><th scope=col>group</th><th scope=col>content</th><th scope=col>unit</th><th scope=col>pharmForm</th><th scope=col>genericProduct</th><th scope=col>salesIndex</th><th scope=col>category</th><th scope=col>campaignIndex</th><th scope=col>rrp</th></tr></thead>\n",
       "<tbody>\n",
       "\t<tr><th scope=row>953577</th><td>6570 </td><td>1    </td><td>1    </td><td>0    </td><td>2    </td><td>14.6 </td><td>16.89</td><td>255  </td><td>2FOI </td><td>50   </td><td>ML   </td><td>TRO  </td><td>0    </td><td>40   </td><td>193  </td><td>NA   </td><td>18.25</td></tr>\n",
       "\t<tr><th scope=row>1916348</th><td>14922   </td><td>2       </td><td>1       </td><td>1       </td><td>1       </td><td>8.57    </td><td>8.75    </td><td>18      </td><td>1COJ0FIK</td><td>50      </td><td>ST      </td><td>TAB     </td><td>1       </td><td>40      </td><td>66      </td><td>C       </td><td>18.81   </td></tr>\n",
       "\t<tr><th scope=row>2109080</th><td>16382</td><td>3    </td><td>1    </td><td>0    </td><td>1    </td><td>14.77</td><td>16.06</td><td>41   </td><td>22OI7</td><td>2X50 </td><td>ML   </td><td>STI  </td><td>0    </td><td>53   </td><td>40   </td><td>NA   </td><td>18.48</td></tr>\n",
       "\t<tr><th scope=row>129870</th><td>1145    </td><td>4       </td><td>1       </td><td>1       </td><td>1       </td><td>6.59    </td><td>6.55    </td><td>52      </td><td>18OZ00IS</td><td>60      </td><td>G       </td><td>GEL     </td><td>0       </td><td>40      </td><td>25      </td><td>NA      </td><td>9.31    </td></tr>\n",
       "\t<tr><th scope=row>528907</th><td>3394 </td><td>5    </td><td>1    </td><td>0    </td><td>1    </td><td>4.39 </td><td>4.14 </td><td>90   </td><td>20OI0</td><td>25X2 </td><td>ST   </td><td>KOM  </td><td>0    </td><td>53   </td><td>14   </td><td>NA   </td><td>8.13 </td></tr>\n",
       "\t<tr><th scope=row>560194</th><td>3661  </td><td>6     </td><td>1     </td><td>0     </td><td>1     </td><td>13.66 </td><td>10.03 </td><td>90    </td><td>13OX06</td><td>1000  </td><td>ML    </td><td>LOE   </td><td>0     </td><td>52    </td><td>127   </td><td>NA    </td><td>21.6  </td></tr>\n",
       "</tbody>\n",
       "</table>\n"
      ],
      "text/latex": [
       "\\begin{tabular}{r|lllllllllllllllll}\n",
       "  & pid & lineID & day & adFlag & availability & competitorPrice & price & manufacturer & group & content & unit & pharmForm & genericProduct & salesIndex & category & campaignIndex & rrp\\\\\n",
       "\\hline\n",
       "\t953577 & 6570  & 1     & 1     & 0     & 2     & 14.6  & 16.89 & 255   & 2FOI  & 50    & ML    & TRO   & 0     & 40    & 193   & NA    & 18.25\\\\\n",
       "\t1916348 & 14922    & 2        & 1        & 1        & 1        & 8.57     & 8.75     & 18       & 1COJ0FIK & 50       & ST       & TAB      & 1        & 40       & 66       & C        & 18.81   \\\\\n",
       "\t2109080 & 16382 & 3     & 1     & 0     & 1     & 14.77 & 16.06 & 41    & 22OI7 & 2X50  & ML    & STI   & 0     & 53    & 40    & NA    & 18.48\\\\\n",
       "\t129870 & 1145     & 4        & 1        & 1        & 1        & 6.59     & 6.55     & 52       & 18OZ00IS & 60       & G        & GEL      & 0        & 40       & 25       & NA       & 9.31    \\\\\n",
       "\t528907 & 3394  & 5     & 1     & 0     & 1     & 4.39  & 4.14  & 90    & 20OI0 & 25X2  & ST    & KOM   & 0     & 53    & 14    & NA    & 8.13 \\\\\n",
       "\t560194 & 3661   & 6      & 1      & 0      & 1      & 13.66  & 10.03  & 90     & 13OX06 & 1000   & ML     & LOE    & 0      & 52     & 127    & NA     & 21.6  \\\\\n",
       "\\end{tabular}\n"
      ],
      "text/plain": [
       "          pid lineID day adFlag availability competitorPrice price manufacturer\n",
       "953577   6570      1   1      0            2           14.60 16.89          255\n",
       "1916348 14922      2   1      1            1            8.57  8.75           18\n",
       "2109080 16382      3   1      0            1           14.77 16.06           41\n",
       "129870   1145      4   1      1            1            6.59  6.55           52\n",
       "528907   3394      5   1      0            1            4.39  4.14           90\n",
       "560194   3661      6   1      0            1           13.66 10.03           90\n",
       "           group content unit pharmForm genericProduct salesIndex category\n",
       "953577      2FOI      50   ML       TRO              0         40      193\n",
       "1916348 1COJ0FIK      50   ST       TAB              1         40       66\n",
       "2109080    22OI7    2X50   ML       STI              0         53       40\n",
       "129870  18OZ00IS      60    G       GEL              0         40       25\n",
       "528907     20OI0    25X2   ST       KOM              0         53       14\n",
       "560194    13OX06    1000   ML       LOE              0         52      127\n",
       "        campaignIndex   rrp\n",
       "953577           <NA> 18.25\n",
       "1916348             C 18.81\n",
       "2109080          <NA> 18.48\n",
       "129870           <NA>  9.31\n",
       "528907           <NA>  8.13\n",
       "560194           <NA> 21.60"
      ]
     },
     "metadata": {},
     "output_type": "display_data"
    }
   ],
   "source": [
    "head(train_mat)"
   ]
  },
  {
   "cell_type": "markdown",
   "metadata": {},
   "source": [
    "## Meeting 4/25\n",
    "\n",
    "Do competitor prices vary within PIDs?"
   ]
  },
  {
   "cell_type": "code",
   "execution_count": 23,
   "metadata": {},
   "outputs": [
    {
     "data": {
      "text/plain": [
       "\n",
       " 2655  2491 16641 16144  7403  3853  1426  1247  1037  1567 \n",
       "53785 14666 12369 11134 10002  8683  8396  7949  7933  7761 "
      ]
     },
     "metadata": {},
     "output_type": "display_data"
    }
   ],
   "source": [
    "sort(table(train$pid), decreasing = T)[1:10]"
   ]
  },
  {
   "cell_type": "code",
   "execution_count": 35,
   "metadata": {},
   "outputs": [],
   "source": [
    "z = aggregate(train$price, list(train$day, train$pid), var)"
   ]
  },
  {
   "cell_type": "code",
   "execution_count": 38,
   "metadata": {
    "scrolled": true
   },
   "outputs": [
    {
     "data": {
      "text/html": [
       "2446.42790551939"
      ],
      "text/latex": [
       "2446.42790551939"
      ],
      "text/markdown": [
       "2446.42790551939"
      ],
      "text/plain": [
       "[1] 2446.428"
      ]
     },
     "metadata": {},
     "output_type": "display_data"
    }
   ],
   "source": [
    "sum(z$x[!is.na(z$x)])"
   ]
  },
  {
   "cell_type": "markdown",
   "metadata": {},
   "source": [
    "The above shows there is some variation within days."
   ]
  },
  {
   "cell_type": "code",
   "execution_count": 126,
   "metadata": {},
   "outputs": [],
   "source": [
    "train = df[df$day <= 62, ]\n",
    "test = df[df$day > 62, ]"
   ]
  },
  {
   "cell_type": "code",
   "execution_count": 127,
   "metadata": {},
   "outputs": [],
   "source": [
    "label_cols = c(\"click\", \"basket\", \"order\", \"revenue\", \"quantity\")\n",
    "\n",
    "train_labels = train[label_cols]\n",
    "train = train[!(names(train) %in% label_cols)]\n",
    "\n",
    "test_labels = test[label_cols]\n",
    "test = test[!(names(test) %in% label_cols)]"
   ]
  },
  {
   "cell_type": "code",
   "execution_count": 128,
   "metadata": {},
   "outputs": [],
   "source": [
    "delete_cols = c(\"pid\", \"lineID\")\n",
    "train = train[!(names(train) %in% delete_cols)]\n",
    "test = test[!(names(test) %in% delete_cols)]"
   ]
  },
  {
   "cell_type": "code",
   "execution_count": 129,
   "metadata": {},
   "outputs": [
    {
     "data": {
      "text/html": [
       "<table>\n",
       "<thead><tr><th></th><th scope=col>day</th><th scope=col>adFlag</th><th scope=col>availability</th><th scope=col>competitorPrice</th><th scope=col>price</th><th scope=col>manufacturer</th><th scope=col>group</th><th scope=col>content</th><th scope=col>unit</th><th scope=col>pharmForm</th><th scope=col>genericProduct</th><th scope=col>salesIndex</th><th scope=col>category</th><th scope=col>campaignIndex</th><th scope=col>rrp</th></tr></thead>\n",
       "<tbody>\n",
       "\t<tr><th scope=row>953577</th><td>1    </td><td>0    </td><td>2    </td><td>14.6 </td><td>16.89</td><td>255  </td><td>2FOI </td><td>50   </td><td>ML   </td><td>TRO  </td><td>0    </td><td>40   </td><td>193  </td><td>NA   </td><td>18.25</td></tr>\n",
       "\t<tr><th scope=row>1916348</th><td>1       </td><td>1       </td><td>1       </td><td>8.57    </td><td>8.75    </td><td>18      </td><td>1COJ0FIK</td><td>50      </td><td>ST      </td><td>TAB     </td><td>1       </td><td>40      </td><td>66      </td><td>C       </td><td>18.81   </td></tr>\n",
       "\t<tr><th scope=row>2109080</th><td>1    </td><td>0    </td><td>1    </td><td>14.77</td><td>16.06</td><td>41   </td><td>22OI7</td><td>2X50 </td><td>ML   </td><td>STI  </td><td>0    </td><td>53   </td><td>40   </td><td>NA   </td><td>18.48</td></tr>\n",
       "\t<tr><th scope=row>129870</th><td>1       </td><td>1       </td><td>1       </td><td>6.59    </td><td>6.55    </td><td>52      </td><td>18OZ00IS</td><td>60      </td><td>G       </td><td>GEL     </td><td>0       </td><td>40      </td><td>25      </td><td>NA      </td><td>9.31    </td></tr>\n",
       "\t<tr><th scope=row>528907</th><td>1    </td><td>0    </td><td>1    </td><td>4.39 </td><td>4.14 </td><td>90   </td><td>20OI0</td><td>25X2 </td><td>ST   </td><td>KOM  </td><td>0    </td><td>53   </td><td>14   </td><td>NA   </td><td>8.13 </td></tr>\n",
       "\t<tr><th scope=row>560194</th><td>1     </td><td>0     </td><td>1     </td><td>13.66 </td><td>10.03 </td><td>90    </td><td>13OX06</td><td>1000  </td><td>ML    </td><td>LOE   </td><td>0     </td><td>52    </td><td>127   </td><td>NA    </td><td>21.6  </td></tr>\n",
       "</tbody>\n",
       "</table>\n"
      ],
      "text/latex": [
       "\\begin{tabular}{r|lllllllllllllll}\n",
       "  & day & adFlag & availability & competitorPrice & price & manufacturer & group & content & unit & pharmForm & genericProduct & salesIndex & category & campaignIndex & rrp\\\\\n",
       "\\hline\n",
       "\t953577 & 1     & 0     & 2     & 14.6  & 16.89 & 255   & 2FOI  & 50    & ML    & TRO   & 0     & 40    & 193   & NA    & 18.25\\\\\n",
       "\t1916348 & 1        & 1        & 1        & 8.57     & 8.75     & 18       & 1COJ0FIK & 50       & ST       & TAB      & 1        & 40       & 66       & C        & 18.81   \\\\\n",
       "\t2109080 & 1     & 0     & 1     & 14.77 & 16.06 & 41    & 22OI7 & 2X50  & ML    & STI   & 0     & 53    & 40    & NA    & 18.48\\\\\n",
       "\t129870 & 1        & 1        & 1        & 6.59     & 6.55     & 52       & 18OZ00IS & 60       & G        & GEL      & 0        & 40       & 25       & NA       & 9.31    \\\\\n",
       "\t528907 & 1     & 0     & 1     & 4.39  & 4.14  & 90    & 20OI0 & 25X2  & ST    & KOM   & 0     & 53    & 14    & NA    & 8.13 \\\\\n",
       "\t560194 & 1      & 0      & 1      & 13.66  & 10.03  & 90     & 13OX06 & 1000   & ML     & LOE    & 0      & 52     & 127    & NA     & 21.6  \\\\\n",
       "\\end{tabular}\n"
      ],
      "text/plain": [
       "        day adFlag availability competitorPrice price manufacturer    group\n",
       "953577    1      0            2           14.60 16.89          255     2FOI\n",
       "1916348   1      1            1            8.57  8.75           18 1COJ0FIK\n",
       "2109080   1      0            1           14.77 16.06           41    22OI7\n",
       "129870    1      1            1            6.59  6.55           52 18OZ00IS\n",
       "528907    1      0            1            4.39  4.14           90    20OI0\n",
       "560194    1      0            1           13.66 10.03           90   13OX06\n",
       "        content unit pharmForm genericProduct salesIndex category campaignIndex\n",
       "953577       50   ML       TRO              0         40      193          <NA>\n",
       "1916348      50   ST       TAB              1         40       66             C\n",
       "2109080    2X50   ML       STI              0         53       40          <NA>\n",
       "129870       60    G       GEL              0         40       25          <NA>\n",
       "528907     25X2   ST       KOM              0         53       14          <NA>\n",
       "560194     1000   ML       LOE              0         52      127          <NA>\n",
       "          rrp\n",
       "953577  18.25\n",
       "1916348 18.81\n",
       "2109080 18.48\n",
       "129870   9.31\n",
       "528907   8.13\n",
       "560194  21.60"
      ]
     },
     "metadata": {},
     "output_type": "display_data"
    }
   ],
   "source": [
    "head(train)"
   ]
  },
  {
   "cell_type": "code",
   "execution_count": 130,
   "metadata": {},
   "outputs": [],
   "source": [
    "# group, content, unit, pharmForm, campaignIndex\n",
    "# Convert categories to numbers\n",
    "train = lapply(train, function(col) {\n",
    "   if (!inherits(col, \"character\"))\n",
    "       return (col)\n",
    "    \n",
    "    unclass(factor(col))\n",
    "})\n",
    "train = as.data.frame(train)"
   ]
  },
  {
   "cell_type": "code",
   "execution_count": 131,
   "metadata": {},
   "outputs": [],
   "source": [
    "train = data.matrix(train)"
   ]
  },
  {
   "cell_type": "code",
   "execution_count": 132,
   "metadata": {
    "collapsed": true
   },
   "outputs": [],
   "source": [
    "# Convert categories to numbers\n",
    "test = lapply(test, function(col) {\n",
    "   if (!inherits(col, \"character\"))\n",
    "       return (col)\n",
    "    \n",
    "    unclass(factor(col))\n",
    "})\n",
    "test = data.matrix(as.data.frame(test))"
   ]
  },
  {
   "cell_type": "code",
   "execution_count": 133,
   "metadata": {},
   "outputs": [
    {
     "name": "stdout",
     "output_type": "stream",
     "text": [
      "[1]\ttrain-error:0.263378 \n",
      "[2]\ttrain-error:0.263378 \n"
     ]
    }
   ],
   "source": [
    "#model = xgboost(data = train, label = train_labels$order,\n",
    "#                max.depth = 2, eta = 1, nthread = 2, nround = 2, objective = \"binary:logistic\")\n",
    "model = xgboost(data = as.matrix(train), label = train_labels$order,\n",
    "                max.depth = 2, eta = 1, nthread = 2, nround = 2, objective = \"binary:logistic\")\n"
   ]
  },
  {
   "cell_type": "code",
   "execution_count": 134,
   "metadata": {},
   "outputs": [
    {
     "data": {
      "text/plain": [
       "##### xgb.Booster\n",
       "raw: 1.2 Kb \n",
       "call:\n",
       "  xgb.train(params = params, data = dtrain, nrounds = nrounds, \n",
       "    watchlist = watchlist, verbose = verbose, print_every_n = print_every_n, \n",
       "    early_stopping_rounds = early_stopping_rounds, maximize = maximize, \n",
       "    save_period = save_period, save_name = save_name, xgb_model = xgb_model, \n",
       "    callbacks = callbacks, max.depth = 2, eta = 1, nthread = 2, \n",
       "    objective = \"binary:logistic\")\n",
       "params (as set within xgb.train):\n",
       "  max_depth = \"2\", eta = \"1\", nthread = \"2\", objective = \"binary:logistic\", silent = \"1\"\n",
       "xgb.attributes:\n",
       "  niter\n",
       "callbacks:\n",
       "  cb.print.evaluation(period = print_every_n)\n",
       "  cb.evaluation.log()\n",
       "  cb.save.model(save_period = save_period, save_name = save_name)\n",
       "niter: 2\n",
       "evaluation_log:\n",
       " iter train_error\n",
       "    1    0.263378\n",
       "    2    0.263378"
      ]
     },
     "metadata": {},
     "output_type": "display_data"
    }
   ],
   "source": [
    "model"
   ]
  },
  {
   "cell_type": "code",
   "execution_count": 135,
   "metadata": {},
   "outputs": [],
   "source": [
    "preds = predict(model, test)"
   ]
  },
  {
   "cell_type": "code",
   "execution_count": 136,
   "metadata": {},
   "outputs": [],
   "source": [
    "preds01 = ifelse(preds <= 0.3, 0, 1)"
   ]
  },
  {
   "cell_type": "code",
   "execution_count": 137,
   "metadata": {},
   "outputs": [
    {
     "data": {
      "text/plain": [
       "   preds01\n",
       "             0          1\n",
       "  0 0.64174959 0.11622339\n",
       "  1 0.17824106 0.06378596"
      ]
     },
     "metadata": {},
     "output_type": "display_data"
    }
   ],
   "source": [
    "prop.table(table(test_labels$order, preds01))"
   ]
  },
  {
   "cell_type": "markdown",
   "metadata": {},
   "source": [
    "Fitting a second layer model"
   ]
  },
  {
   "cell_type": "code",
   "execution_count": 138,
   "metadata": {
    "collapsed": true
   },
   "outputs": [],
   "source": [
    "is_train2 = (train_labels$order == 1)\n",
    "train2 = train[is_train2, ]"
   ]
  },
  {
   "cell_type": "code",
   "execution_count": 141,
   "metadata": {
    "scrolled": true
   },
   "outputs": [
    {
     "data": {
      "text/plain": [
       "   Min. 1st Qu.  Median    Mean 3rd Qu.    Max. \n",
       "  1.000   1.000   1.000   1.371   1.000 306.000 "
      ]
     },
     "metadata": {},
     "output_type": "display_data"
    }
   ],
   "source": [
    "summary(train_labels$quantity[is_train2])"
   ]
  },
  {
   "cell_type": "code",
   "execution_count": 142,
   "metadata": {},
   "outputs": [
    {
     "data": {
      "text/html": [
       "2.54897038644174"
      ],
      "text/latex": [
       "2.54897038644174"
      ],
      "text/markdown": [
       "2.54897038644174"
      ],
      "text/plain": [
       "[1] 2.54897"
      ]
     },
     "metadata": {},
     "output_type": "display_data"
    }
   ],
   "source": [
    "var(train_labels$quantity[is_train2])"
   ]
  },
  {
   "cell_type": "code",
   "execution_count": 168,
   "metadata": {
    "collapsed": true
   },
   "outputs": [],
   "source": [
    "model2_data = as.data.frame(train2)\n",
    "model2_data[[\"quantity\"]] = train_labels$quantity[is_train2]\n",
    "model2 = glm(quantity ~ ., data = model2_data, family = poisson)"
   ]
  },
  {
   "cell_type": "code",
   "execution_count": 169,
   "metadata": {},
   "outputs": [
    {
     "data": {
      "text/plain": [
       "\n",
       "Call:  glm(formula = quantity ~ ., family = poisson, data = model2_data)\n",
       "\n",
       "Coefficients:\n",
       "    (Intercept)              day           adFlag     availability  \n",
       "     -3.587e-01        4.872e-04        2.485e-02       -2.190e-02  \n",
       "competitorPrice            price     manufacturer            group  \n",
       "     -1.074e-02        2.794e-03       -7.751e-05        1.829e-04  \n",
       "        content             unit        pharmForm   genericProduct  \n",
       "     -1.029e-04       -2.318e-02       -2.245e-04        4.594e-02  \n",
       "     salesIndex         category    campaignIndex              rrp  \n",
       "      1.225e-02       -8.574e-05        1.347e-01       -4.459e-04  \n",
       "\n",
       "Degrees of Freedom: 80722 Total (i.e. Null);  80707 Residual\n",
       "  (388813 observations deleted due to missingness)\n",
       "Null Deviance:\t    23530 \n",
       "Residual Deviance: 21970 \tAIC: 192900"
      ]
     },
     "metadata": {},
     "output_type": "display_data"
    }
   ],
   "source": [
    "model2"
   ]
  },
  {
   "cell_type": "code",
   "execution_count": 116,
   "metadata": {
    "collapsed": true
   },
   "outputs": [],
   "source": [
    "# Fit model on train2\n"
   ]
  },
  {
   "cell_type": "code",
   "execution_count": 114,
   "metadata": {
    "collapsed": true
   },
   "outputs": [],
   "source": [
    "# Predict with 2nd model on this\n",
    "is_test2 = (preds01 == 1)\n",
    "test2 = test[is_test2, ]"
   ]
  },
  {
   "cell_type": "code",
   "execution_count": 176,
   "metadata": {
    "collapsed": true
   },
   "outputs": [],
   "source": [
    "preds_qty = predict(model, test2, type = \"link\")"
   ]
  },
  {
   "cell_type": "code",
   "execution_count": 177,
   "metadata": {},
   "outputs": [
    {
     "data": {
      "text/plain": [
       "   Min. 1st Qu.  Median    Mean 3rd Qu.    Max. \n",
       " 0.3267  0.3267  0.3267  0.3267  0.3267  0.3267 "
      ]
     },
     "metadata": {},
     "output_type": "display_data"
    }
   ],
   "source": [
    "summary(preds_qty)"
   ]
  },
  {
   "cell_type": "code",
   "execution_count": 178,
   "metadata": {
    "collapsed": true
   },
   "outputs": [],
   "source": [
    "?predict.glm"
   ]
  }
 ],
 "metadata": {
  "kernelspec": {
   "display_name": "R",
   "language": "R",
   "name": "ir"
  },
  "language_info": {
   "codemirror_mode": "r",
   "file_extension": ".r",
   "mimetype": "text/x-r-source",
   "name": "R",
   "pygments_lexer": "r",
   "version": "3.3.3"
  }
 },
 "nbformat": 4,
 "nbformat_minor": 2
}
